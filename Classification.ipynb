{
  "cells": [
    {
      "cell_type": "code",
      "execution_count": null,
      "metadata": {
        "id": "-j7HqVFY_Xp0"
      },
      "outputs": [],
      "source": [
        "import pandas as pd\n",
        "import numpy as np\n",
        "import seaborn as sns\n",
        "import matplotlib.pyplot as plt\n",
        "from sklearn.model_selection import train_test_split, GridSearchCV, cross_val_score\n",
        "from sklearn.preprocessing import StandardScaler\n",
        "\n",
        "from sklearn.linear_model import LogisticRegression\n",
        "from sklearn.ensemble import RandomForestClassifier\n",
        "from sklearn.feature_selection import SelectKBest, f_classif\n",
        "from sklearn.metrics import classification_report, confusion_matrix, accuracy_score"
      ]
    },
    {
      "cell_type": "code",
      "execution_count": null,
      "metadata": {
        "colab": {
          "base_uri": "https://localhost:8080/",
          "height": 313
        },
        "id": "7_jcdGf8CQU7",
        "outputId": "e28b0f27-6ea5-46d6-d03c-ae4778c54ab9"
      },
      "outputs": [
        {
          "output_type": "execute_result",
          "data": {
            "text/plain": [
              "   Unnamed: 0  Magnetic Field Fluctuations   Leakage  Instabilities  \\\n",
              "0           0                     0.037454  0.058078       0.028259   \n",
              "1           1                     0.095071  0.052697       0.045868   \n",
              "2           2                     0.073199  0.035104       0.009922   \n",
              "3           3                     0.059866  0.049321       0.044684   \n",
              "4           4                     0.015602  0.036510       0.020308   \n",
              "\n",
              "   Plasma Instabilities  Magnetic Field Strength Magnetic Field Configuration  \\\n",
              "0              0.015705                 9.000578                      tokamak   \n",
              "1              0.009551                 3.841421         reversed field pinch   \n",
              "2              0.013794                 1.467187                  stellarator   \n",
              "3              0.047349                 9.277696                      tokamak   \n",
              "4              0.088453                 4.926347         reversed field pinch   \n",
              "\n",
              "   Injection Energy  Beam Symmetry  Target Density Target Composition  \\\n",
              "0          5.713125       0.800007    2.026963e+19          deuterium   \n",
              "1          9.819548       0.082642    3.050685e+19  deuterium-tritium   \n",
              "2          7.016781       0.176319    5.287388e+19            tritium   \n",
              "3          4.018930       0.833709    5.961305e+19  deuterium-tritium   \n",
              "4          6.145836       0.808161    7.887942e+19          deuterium   \n",
              "\n",
              "   Fuel Density   Temperature  Confinement Time  Fuel Purity  Energy Input  \\\n",
              "0  7.612226e+19  4.050388e+08          0.842126    99.971295    250.726719   \n",
              "1  8.742441e+19  2.551963e+08          0.504637    99.951049    345.614166   \n",
              "2  8.236610e+19  2.627651e+08          0.357445    99.958831    290.050980   \n",
              "3  9.079654e+19  3.104709e+08          0.992195    99.997186    436.491093   \n",
              "4  8.186142e+19  3.258529e+08          0.648677    99.927054    198.773196   \n",
              "\n",
              "   Power Output      Pressure  Neutron Yield  Ignition  \n",
              "0     55.321517  6.107792e+06   5.443404e+10         0  \n",
              "1     22.767959  4.921946e+06   8.372016e+10         0  \n",
              "2     49.872944  9.798230e+06   8.112584e+10         1  \n",
              "3      2.656182  5.611293e+06   4.423307e+10         1  \n",
              "4     48.096005  8.541064e+06   2.245276e+10         0  "
            ],
            "text/html": [
              "\n",
              "  <div id=\"df-bf5a35f1-8801-46dd-9156-edda2c401e92\" class=\"colab-df-container\">\n",
              "    <div>\n",
              "<style scoped>\n",
              "    .dataframe tbody tr th:only-of-type {\n",
              "        vertical-align: middle;\n",
              "    }\n",
              "\n",
              "    .dataframe tbody tr th {\n",
              "        vertical-align: top;\n",
              "    }\n",
              "\n",
              "    .dataframe thead th {\n",
              "        text-align: right;\n",
              "    }\n",
              "</style>\n",
              "<table border=\"1\" class=\"dataframe\">\n",
              "  <thead>\n",
              "    <tr style=\"text-align: right;\">\n",
              "      <th></th>\n",
              "      <th>Unnamed: 0</th>\n",
              "      <th>Magnetic Field Fluctuations</th>\n",
              "      <th>Leakage</th>\n",
              "      <th>Instabilities</th>\n",
              "      <th>Plasma Instabilities</th>\n",
              "      <th>Magnetic Field Strength</th>\n",
              "      <th>Magnetic Field Configuration</th>\n",
              "      <th>Injection Energy</th>\n",
              "      <th>Beam Symmetry</th>\n",
              "      <th>Target Density</th>\n",
              "      <th>Target Composition</th>\n",
              "      <th>Fuel Density</th>\n",
              "      <th>Temperature</th>\n",
              "      <th>Confinement Time</th>\n",
              "      <th>Fuel Purity</th>\n",
              "      <th>Energy Input</th>\n",
              "      <th>Power Output</th>\n",
              "      <th>Pressure</th>\n",
              "      <th>Neutron Yield</th>\n",
              "      <th>Ignition</th>\n",
              "    </tr>\n",
              "  </thead>\n",
              "  <tbody>\n",
              "    <tr>\n",
              "      <th>0</th>\n",
              "      <td>0</td>\n",
              "      <td>0.037454</td>\n",
              "      <td>0.058078</td>\n",
              "      <td>0.028259</td>\n",
              "      <td>0.015705</td>\n",
              "      <td>9.000578</td>\n",
              "      <td>tokamak</td>\n",
              "      <td>5.713125</td>\n",
              "      <td>0.800007</td>\n",
              "      <td>2.026963e+19</td>\n",
              "      <td>deuterium</td>\n",
              "      <td>7.612226e+19</td>\n",
              "      <td>4.050388e+08</td>\n",
              "      <td>0.842126</td>\n",
              "      <td>99.971295</td>\n",
              "      <td>250.726719</td>\n",
              "      <td>55.321517</td>\n",
              "      <td>6.107792e+06</td>\n",
              "      <td>5.443404e+10</td>\n",
              "      <td>0</td>\n",
              "    </tr>\n",
              "    <tr>\n",
              "      <th>1</th>\n",
              "      <td>1</td>\n",
              "      <td>0.095071</td>\n",
              "      <td>0.052697</td>\n",
              "      <td>0.045868</td>\n",
              "      <td>0.009551</td>\n",
              "      <td>3.841421</td>\n",
              "      <td>reversed field pinch</td>\n",
              "      <td>9.819548</td>\n",
              "      <td>0.082642</td>\n",
              "      <td>3.050685e+19</td>\n",
              "      <td>deuterium-tritium</td>\n",
              "      <td>8.742441e+19</td>\n",
              "      <td>2.551963e+08</td>\n",
              "      <td>0.504637</td>\n",
              "      <td>99.951049</td>\n",
              "      <td>345.614166</td>\n",
              "      <td>22.767959</td>\n",
              "      <td>4.921946e+06</td>\n",
              "      <td>8.372016e+10</td>\n",
              "      <td>0</td>\n",
              "    </tr>\n",
              "    <tr>\n",
              "      <th>2</th>\n",
              "      <td>2</td>\n",
              "      <td>0.073199</td>\n",
              "      <td>0.035104</td>\n",
              "      <td>0.009922</td>\n",
              "      <td>0.013794</td>\n",
              "      <td>1.467187</td>\n",
              "      <td>stellarator</td>\n",
              "      <td>7.016781</td>\n",
              "      <td>0.176319</td>\n",
              "      <td>5.287388e+19</td>\n",
              "      <td>tritium</td>\n",
              "      <td>8.236610e+19</td>\n",
              "      <td>2.627651e+08</td>\n",
              "      <td>0.357445</td>\n",
              "      <td>99.958831</td>\n",
              "      <td>290.050980</td>\n",
              "      <td>49.872944</td>\n",
              "      <td>9.798230e+06</td>\n",
              "      <td>8.112584e+10</td>\n",
              "      <td>1</td>\n",
              "    </tr>\n",
              "    <tr>\n",
              "      <th>3</th>\n",
              "      <td>3</td>\n",
              "      <td>0.059866</td>\n",
              "      <td>0.049321</td>\n",
              "      <td>0.044684</td>\n",
              "      <td>0.047349</td>\n",
              "      <td>9.277696</td>\n",
              "      <td>tokamak</td>\n",
              "      <td>4.018930</td>\n",
              "      <td>0.833709</td>\n",
              "      <td>5.961305e+19</td>\n",
              "      <td>deuterium-tritium</td>\n",
              "      <td>9.079654e+19</td>\n",
              "      <td>3.104709e+08</td>\n",
              "      <td>0.992195</td>\n",
              "      <td>99.997186</td>\n",
              "      <td>436.491093</td>\n",
              "      <td>2.656182</td>\n",
              "      <td>5.611293e+06</td>\n",
              "      <td>4.423307e+10</td>\n",
              "      <td>1</td>\n",
              "    </tr>\n",
              "    <tr>\n",
              "      <th>4</th>\n",
              "      <td>4</td>\n",
              "      <td>0.015602</td>\n",
              "      <td>0.036510</td>\n",
              "      <td>0.020308</td>\n",
              "      <td>0.088453</td>\n",
              "      <td>4.926347</td>\n",
              "      <td>reversed field pinch</td>\n",
              "      <td>6.145836</td>\n",
              "      <td>0.808161</td>\n",
              "      <td>7.887942e+19</td>\n",
              "      <td>deuterium</td>\n",
              "      <td>8.186142e+19</td>\n",
              "      <td>3.258529e+08</td>\n",
              "      <td>0.648677</td>\n",
              "      <td>99.927054</td>\n",
              "      <td>198.773196</td>\n",
              "      <td>48.096005</td>\n",
              "      <td>8.541064e+06</td>\n",
              "      <td>2.245276e+10</td>\n",
              "      <td>0</td>\n",
              "    </tr>\n",
              "  </tbody>\n",
              "</table>\n",
              "</div>\n",
              "    <div class=\"colab-df-buttons\">\n",
              "\n",
              "  <div class=\"colab-df-container\">\n",
              "    <button class=\"colab-df-convert\" onclick=\"convertToInteractive('df-bf5a35f1-8801-46dd-9156-edda2c401e92')\"\n",
              "            title=\"Convert this dataframe to an interactive table.\"\n",
              "            style=\"display:none;\">\n",
              "\n",
              "  <svg xmlns=\"http://www.w3.org/2000/svg\" height=\"24px\" viewBox=\"0 -960 960 960\">\n",
              "    <path d=\"M120-120v-720h720v720H120Zm60-500h600v-160H180v160Zm220 220h160v-160H400v160Zm0 220h160v-160H400v160ZM180-400h160v-160H180v160Zm440 0h160v-160H620v160ZM180-180h160v-160H180v160Zm440 0h160v-160H620v160Z\"/>\n",
              "  </svg>\n",
              "    </button>\n",
              "\n",
              "  <style>\n",
              "    .colab-df-container {\n",
              "      display:flex;\n",
              "      gap: 12px;\n",
              "    }\n",
              "\n",
              "    .colab-df-convert {\n",
              "      background-color: #E8F0FE;\n",
              "      border: none;\n",
              "      border-radius: 50%;\n",
              "      cursor: pointer;\n",
              "      display: none;\n",
              "      fill: #1967D2;\n",
              "      height: 32px;\n",
              "      padding: 0 0 0 0;\n",
              "      width: 32px;\n",
              "    }\n",
              "\n",
              "    .colab-df-convert:hover {\n",
              "      background-color: #E2EBFA;\n",
              "      box-shadow: 0px 1px 2px rgba(60, 64, 67, 0.3), 0px 1px 3px 1px rgba(60, 64, 67, 0.15);\n",
              "      fill: #174EA6;\n",
              "    }\n",
              "\n",
              "    .colab-df-buttons div {\n",
              "      margin-bottom: 4px;\n",
              "    }\n",
              "\n",
              "    [theme=dark] .colab-df-convert {\n",
              "      background-color: #3B4455;\n",
              "      fill: #D2E3FC;\n",
              "    }\n",
              "\n",
              "    [theme=dark] .colab-df-convert:hover {\n",
              "      background-color: #434B5C;\n",
              "      box-shadow: 0px 1px 3px 1px rgba(0, 0, 0, 0.15);\n",
              "      filter: drop-shadow(0px 1px 2px rgba(0, 0, 0, 0.3));\n",
              "      fill: #FFFFFF;\n",
              "    }\n",
              "  </style>\n",
              "\n",
              "    <script>\n",
              "      const buttonEl =\n",
              "        document.querySelector('#df-bf5a35f1-8801-46dd-9156-edda2c401e92 button.colab-df-convert');\n",
              "      buttonEl.style.display =\n",
              "        google.colab.kernel.accessAllowed ? 'block' : 'none';\n",
              "\n",
              "      async function convertToInteractive(key) {\n",
              "        const element = document.querySelector('#df-bf5a35f1-8801-46dd-9156-edda2c401e92');\n",
              "        const dataTable =\n",
              "          await google.colab.kernel.invokeFunction('convertToInteractive',\n",
              "                                                    [key], {});\n",
              "        if (!dataTable) return;\n",
              "\n",
              "        const docLinkHtml = 'Like what you see? Visit the ' +\n",
              "          '<a target=\"_blank\" href=https://colab.research.google.com/notebooks/data_table.ipynb>data table notebook</a>'\n",
              "          + ' to learn more about interactive tables.';\n",
              "        element.innerHTML = '';\n",
              "        dataTable['output_type'] = 'display_data';\n",
              "        await google.colab.output.renderOutput(dataTable, element);\n",
              "        const docLink = document.createElement('div');\n",
              "        docLink.innerHTML = docLinkHtml;\n",
              "        element.appendChild(docLink);\n",
              "      }\n",
              "    </script>\n",
              "  </div>\n",
              "\n",
              "\n",
              "<div id=\"df-20651eea-b92b-4af1-8d05-57c5aab28e22\">\n",
              "  <button class=\"colab-df-quickchart\" onclick=\"quickchart('df-20651eea-b92b-4af1-8d05-57c5aab28e22')\"\n",
              "            title=\"Suggest charts\"\n",
              "            style=\"display:none;\">\n",
              "\n",
              "<svg xmlns=\"http://www.w3.org/2000/svg\" height=\"24px\"viewBox=\"0 0 24 24\"\n",
              "     width=\"24px\">\n",
              "    <g>\n",
              "        <path d=\"M19 3H5c-1.1 0-2 .9-2 2v14c0 1.1.9 2 2 2h14c1.1 0 2-.9 2-2V5c0-1.1-.9-2-2-2zM9 17H7v-7h2v7zm4 0h-2V7h2v10zm4 0h-2v-4h2v4z\"/>\n",
              "    </g>\n",
              "</svg>\n",
              "  </button>\n",
              "\n",
              "<style>\n",
              "  .colab-df-quickchart {\n",
              "      --bg-color: #E8F0FE;\n",
              "      --fill-color: #1967D2;\n",
              "      --hover-bg-color: #E2EBFA;\n",
              "      --hover-fill-color: #174EA6;\n",
              "      --disabled-fill-color: #AAA;\n",
              "      --disabled-bg-color: #DDD;\n",
              "  }\n",
              "\n",
              "  [theme=dark] .colab-df-quickchart {\n",
              "      --bg-color: #3B4455;\n",
              "      --fill-color: #D2E3FC;\n",
              "      --hover-bg-color: #434B5C;\n",
              "      --hover-fill-color: #FFFFFF;\n",
              "      --disabled-bg-color: #3B4455;\n",
              "      --disabled-fill-color: #666;\n",
              "  }\n",
              "\n",
              "  .colab-df-quickchart {\n",
              "    background-color: var(--bg-color);\n",
              "    border: none;\n",
              "    border-radius: 50%;\n",
              "    cursor: pointer;\n",
              "    display: none;\n",
              "    fill: var(--fill-color);\n",
              "    height: 32px;\n",
              "    padding: 0;\n",
              "    width: 32px;\n",
              "  }\n",
              "\n",
              "  .colab-df-quickchart:hover {\n",
              "    background-color: var(--hover-bg-color);\n",
              "    box-shadow: 0 1px 2px rgba(60, 64, 67, 0.3), 0 1px 3px 1px rgba(60, 64, 67, 0.15);\n",
              "    fill: var(--button-hover-fill-color);\n",
              "  }\n",
              "\n",
              "  .colab-df-quickchart-complete:disabled,\n",
              "  .colab-df-quickchart-complete:disabled:hover {\n",
              "    background-color: var(--disabled-bg-color);\n",
              "    fill: var(--disabled-fill-color);\n",
              "    box-shadow: none;\n",
              "  }\n",
              "\n",
              "  .colab-df-spinner {\n",
              "    border: 2px solid var(--fill-color);\n",
              "    border-color: transparent;\n",
              "    border-bottom-color: var(--fill-color);\n",
              "    animation:\n",
              "      spin 1s steps(1) infinite;\n",
              "  }\n",
              "\n",
              "  @keyframes spin {\n",
              "    0% {\n",
              "      border-color: transparent;\n",
              "      border-bottom-color: var(--fill-color);\n",
              "      border-left-color: var(--fill-color);\n",
              "    }\n",
              "    20% {\n",
              "      border-color: transparent;\n",
              "      border-left-color: var(--fill-color);\n",
              "      border-top-color: var(--fill-color);\n",
              "    }\n",
              "    30% {\n",
              "      border-color: transparent;\n",
              "      border-left-color: var(--fill-color);\n",
              "      border-top-color: var(--fill-color);\n",
              "      border-right-color: var(--fill-color);\n",
              "    }\n",
              "    40% {\n",
              "      border-color: transparent;\n",
              "      border-right-color: var(--fill-color);\n",
              "      border-top-color: var(--fill-color);\n",
              "    }\n",
              "    60% {\n",
              "      border-color: transparent;\n",
              "      border-right-color: var(--fill-color);\n",
              "    }\n",
              "    80% {\n",
              "      border-color: transparent;\n",
              "      border-right-color: var(--fill-color);\n",
              "      border-bottom-color: var(--fill-color);\n",
              "    }\n",
              "    90% {\n",
              "      border-color: transparent;\n",
              "      border-bottom-color: var(--fill-color);\n",
              "    }\n",
              "  }\n",
              "</style>\n",
              "\n",
              "  <script>\n",
              "    async function quickchart(key) {\n",
              "      const quickchartButtonEl =\n",
              "        document.querySelector('#' + key + ' button');\n",
              "      quickchartButtonEl.disabled = true;  // To prevent multiple clicks.\n",
              "      quickchartButtonEl.classList.add('colab-df-spinner');\n",
              "      try {\n",
              "        const charts = await google.colab.kernel.invokeFunction(\n",
              "            'suggestCharts', [key], {});\n",
              "      } catch (error) {\n",
              "        console.error('Error during call to suggestCharts:', error);\n",
              "      }\n",
              "      quickchartButtonEl.classList.remove('colab-df-spinner');\n",
              "      quickchartButtonEl.classList.add('colab-df-quickchart-complete');\n",
              "    }\n",
              "    (() => {\n",
              "      let quickchartButtonEl =\n",
              "        document.querySelector('#df-20651eea-b92b-4af1-8d05-57c5aab28e22 button');\n",
              "      quickchartButtonEl.style.display =\n",
              "        google.colab.kernel.accessAllowed ? 'block' : 'none';\n",
              "    })();\n",
              "  </script>\n",
              "</div>\n",
              "\n",
              "    </div>\n",
              "  </div>\n"
            ],
            "application/vnd.google.colaboratory.intrinsic+json": {
              "type": "dataframe",
              "variable_name": "data",
              "summary": "{\n  \"name\": \"data\",\n  \"rows\": 100000,\n  \"fields\": [\n    {\n      \"column\": \"Unnamed: 0\",\n      \"properties\": {\n        \"dtype\": \"number\",\n        \"std\": 28867,\n        \"min\": 0,\n        \"max\": 99999,\n        \"num_unique_values\": 100000,\n        \"samples\": [\n          75721,\n          80184,\n          19864\n        ],\n        \"semantic_type\": \"\",\n        \"description\": \"\"\n      }\n    },\n    {\n      \"column\": \"Magnetic Field Fluctuations\",\n      \"properties\": {\n        \"dtype\": \"number\",\n        \"std\": 0.028834144701042033,\n        \"min\": 5.536675737993769e-07,\n        \"max\": 0.0999992042302966,\n        \"num_unique_values\": 100000,\n        \"samples\": [\n          0.0238385075929695,\n          0.0063193909567247,\n          0.0773481203378542\n        ],\n        \"semantic_type\": \"\",\n        \"description\": \"\"\n      }\n    },\n    {\n      \"column\": \"Leakage\",\n      \"properties\": {\n        \"dtype\": \"number\",\n        \"std\": 0.02886917206880872,\n        \"min\": 4.778609163147429e-07,\n        \"max\": 0.0999989384826214,\n        \"num_unique_values\": 100000,\n        \"samples\": [\n          0.0477336848664903,\n          0.0075447310509135,\n          0.0826075271187952\n        ],\n        \"semantic_type\": \"\",\n        \"description\": \"\"\n      }\n    },\n    {\n      \"column\": \"Instabilities\",\n      \"properties\": {\n        \"dtype\": \"number\",\n        \"std\": 0.028880942226713294,\n        \"min\": 2.2981826180989986e-07,\n        \"max\": 0.0999979261418642,\n        \"num_unique_values\": 100000,\n        \"samples\": [\n          0.0754226536616624,\n          0.0601822531712694,\n          0.0137906704179508\n        ],\n        \"semantic_type\": \"\",\n        \"description\": \"\"\n      }\n    },\n    {\n      \"column\": \"Plasma Instabilities\",\n      \"properties\": {\n        \"dtype\": \"number\",\n        \"std\": 0.028862345504123206,\n        \"min\": 2.2272957072022599e-07,\n        \"max\": 0.099999460925617,\n        \"num_unique_values\": 100000,\n        \"samples\": [\n          0.0291542888348282,\n          0.0346866532773142,\n          0.0997486589333105\n        ],\n        \"semantic_type\": \"\",\n        \"description\": \"\"\n      }\n    },\n    {\n      \"column\": \"Magnetic Field Strength\",\n      \"properties\": {\n        \"dtype\": \"number\",\n        \"std\": 2.5944190636035285,\n        \"min\": 1.0001935923593592,\n        \"max\": 9.99998483374859,\n        \"num_unique_values\": 100000,\n        \"samples\": [\n          7.459867276434672,\n          1.5006073178759325,\n          7.938663973771331\n        ],\n        \"semantic_type\": \"\",\n        \"description\": \"\"\n      }\n    },\n    {\n      \"column\": \"Magnetic Field Configuration\",\n      \"properties\": {\n        \"dtype\": \"category\",\n        \"num_unique_values\": 3,\n        \"samples\": [\n          \"tokamak\",\n          \"reversed field pinch\",\n          \"stellarator\"\n        ],\n        \"semantic_type\": \"\",\n        \"description\": \"\"\n      }\n    },\n    {\n      \"column\": \"Injection Energy\",\n      \"properties\": {\n        \"dtype\": \"number\",\n        \"std\": 2.5981129973378807,\n        \"min\": 1.0000472267678933,\n        \"max\": 9.999954368507522,\n        \"num_unique_values\": 100000,\n        \"samples\": [\n          7.980540319778479,\n          3.226283840351724,\n          4.520934284899006\n        ],\n        \"semantic_type\": \"\",\n        \"description\": \"\"\n      }\n    },\n    {\n      \"column\": \"Beam Symmetry\",\n      \"properties\": {\n        \"dtype\": \"number\",\n        \"std\": 0.28829164529437395,\n        \"min\": 4.488894314802483e-05,\n        \"max\": 0.9999900333514016,\n        \"num_unique_values\": 100000,\n        \"samples\": [\n          0.5389223659856548,\n          0.6922219952043922,\n          0.28249990109277\n        ],\n        \"semantic_type\": \"\",\n        \"description\": \"\"\n      }\n    },\n    {\n      \"column\": \"Target Density\",\n      \"properties\": {\n        \"dtype\": \"number\",\n        \"std\": 2.6022161999453917e+19,\n        \"min\": 1.0000074952950569e+19,\n        \"max\": 9.999935354211325e+19,\n        \"num_unique_values\": 100000,\n        \"samples\": [\n          5.799460742271013e+19,\n          6.459194543954615e+19,\n          5.236720406239735e+19\n        ],\n        \"semantic_type\": \"\",\n        \"description\": \"\"\n      }\n    },\n    {\n      \"column\": \"Target Composition\",\n      \"properties\": {\n        \"dtype\": \"category\",\n        \"num_unique_values\": 3,\n        \"samples\": [\n          \"deuterium\",\n          \"deuterium-tritium\",\n          \"tritium\"\n        ],\n        \"semantic_type\": \"\",\n        \"description\": \"\"\n      }\n    },\n    {\n      \"column\": \"Fuel Density\",\n      \"properties\": {\n        \"dtype\": \"number\",\n        \"std\": 2.5978558855776588e+19,\n        \"min\": 1.0000228800973455e+19,\n        \"max\": 9.999921285230531e+19,\n        \"num_unique_values\": 100000,\n        \"samples\": [\n          6.345040217488398e+19,\n          7.210035698518908e+19,\n          6.582338216687164e+19\n        ],\n        \"semantic_type\": \"\",\n        \"description\": \"\"\n      }\n    },\n    {\n      \"column\": \"Temperature\",\n      \"properties\": {\n        \"dtype\": \"number\",\n        \"std\": 115378461.96929301,\n        \"min\": 100000202.3569386,\n        \"max\": 499999112.48598975,\n        \"num_unique_values\": 100000,\n        \"samples\": [\n          125699481.51095805,\n          138792616.01042554,\n          424693864.2303777\n        ],\n        \"semantic_type\": \"\",\n        \"description\": \"\"\n      }\n    },\n    {\n      \"column\": \"Confinement Time\",\n      \"properties\": {\n        \"dtype\": \"number\",\n        \"std\": 0.259400712227073,\n        \"min\": 0.1000112833412963,\n        \"max\": 0.9999927452096096,\n        \"num_unique_values\": 100000,\n        \"samples\": [\n          0.5841488356903075,\n          0.4849702810044206,\n          0.979635357103091\n        ],\n        \"semantic_type\": \"\",\n        \"description\": \"\"\n      }\n    },\n    {\n      \"column\": \"Fuel Purity\",\n      \"properties\": {\n        \"dtype\": \"number\",\n        \"std\": 0.028833117578686607,\n        \"min\": 99.90000032296824,\n        \"max\": 99.99999862832443,\n        \"num_unique_values\": 100000,\n        \"samples\": [\n          99.95021230343836,\n          99.9348284002414,\n          99.98103501896684\n        ],\n        \"semantic_type\": \"\",\n        \"description\": \"\"\n      }\n    },\n    {\n      \"column\": \"Energy Input\",\n      \"properties\": {\n        \"dtype\": \"number\",\n        \"std\": 115.40575708493664,\n        \"min\": 100.01109261746018,\n        \"max\": 499.9838914357743,\n        \"num_unique_values\": 100000,\n        \"samples\": [\n          271.44583734587457,\n          176.3559326993605,\n          342.1351218466704\n        ],\n        \"semantic_type\": \"\",\n        \"description\": \"\"\n      }\n    },\n    {\n      \"column\": \"Power Output\",\n      \"properties\": {\n        \"dtype\": \"number\",\n        \"std\": 28.839169402735255,\n        \"min\": 3.7745761005680833e-05,\n        \"max\": 99.999522900237,\n        \"num_unique_values\": 100000,\n        \"samples\": [\n          76.42523894535654,\n          59.57579157802849,\n          27.440517214247063\n        ],\n        \"semantic_type\": \"\",\n        \"description\": \"\"\n      }\n    },\n    {\n      \"column\": \"Pressure\",\n      \"properties\": {\n        \"dtype\": \"number\",\n        \"std\": 2598643.553644956,\n        \"min\": 1000012.2997910448,\n        \"max\": 9999994.440173373,\n        \"num_unique_values\": 100000,\n        \"samples\": [\n          6484570.434048293,\n          2889428.2031131983,\n          5385858.430140347\n        ],\n        \"semantic_type\": \"\",\n        \"description\": \"\"\n      }\n    },\n    {\n      \"column\": \"Neutron Yield\",\n      \"properties\": {\n        \"dtype\": \"number\",\n        \"std\": 25937415351.82998,\n        \"min\": 10002120662.50468,\n        \"max\": 99999219049.09784,\n        \"num_unique_values\": 100000,\n        \"samples\": [\n          79063798729.0825,\n          29013321641.260525,\n          15275995900.284966\n        ],\n        \"semantic_type\": \"\",\n        \"description\": \"\"\n      }\n    },\n    {\n      \"column\": \"Ignition\",\n      \"properties\": {\n        \"dtype\": \"number\",\n        \"std\": 0,\n        \"min\": 0,\n        \"max\": 1,\n        \"num_unique_values\": 2,\n        \"samples\": [\n          1,\n          0\n        ],\n        \"semantic_type\": \"\",\n        \"description\": \"\"\n      }\n    }\n  ]\n}"
            }
          },
          "metadata": {},
          "execution_count": 8
        }
      ],
      "source": [
        "# Load the dataset\n",
        "data = pd.read_csv('/content/drive/MyDrive/SEM3_Coursework_AI/fusion_experiment.csv')\n",
        "data.head()"
      ]
    },
    {
      "cell_type": "code",
      "execution_count": null,
      "metadata": {
        "colab": {
          "base_uri": "https://localhost:8080/"
        },
        "id": "7htvQyUQCuJ3",
        "outputId": "effe7d2a-cebd-4f6a-d2da-78cea0229190"
      },
      "outputs": [
        {
          "output_type": "stream",
          "name": "stdout",
          "text": [
            "          Unnamed: 0  Magnetic Field Fluctuations       Leakage  \\\n",
            "count  100000.000000                 1.000000e+05  1.000000e+05   \n",
            "mean    49999.500000                 4.994883e-02  5.013301e-02   \n",
            "std     28867.657797                 2.883414e-02  2.886917e-02   \n",
            "min         0.000000                 5.536676e-07  4.778609e-07   \n",
            "25%     24999.750000                 2.495460e-02  2.507175e-02   \n",
            "50%     49999.500000                 5.006298e-02  5.018813e-02   \n",
            "75%     74999.250000                 7.495137e-02  7.504113e-02   \n",
            "max     99999.000000                 9.999920e-02  9.999894e-02   \n",
            "\n",
            "       Instabilities  Plasma Instabilities  Magnetic Field Strength  \\\n",
            "count   1.000000e+05          1.000000e+05            100000.000000   \n",
            "mean    5.006243e-02          4.989715e-02                 5.509036   \n",
            "std     2.888094e-02          2.886235e-02                 2.594419   \n",
            "min     2.298183e-07          2.227296e-07                 1.000194   \n",
            "25%     2.502999e-02          2.489844e-02                 3.259118   \n",
            "50%     5.011355e-02          4.979599e-02                 5.528357   \n",
            "75%     7.504423e-02          7.494059e-02                 7.746824   \n",
            "max     9.999793e-02          9.999946e-02                 9.999985   \n",
            "\n",
            "       Injection Energy  Beam Symmetry  Target Density  Fuel Density  \\\n",
            "count     100000.000000  100000.000000    1.000000e+05  1.000000e+05   \n",
            "mean           5.489459       0.500708    5.517243e+19  5.495343e+19   \n",
            "std            2.598113       0.288292    2.602216e+19  2.597856e+19   \n",
            "min            1.000047       0.000045    1.000007e+19  1.000023e+19   \n",
            "25%            3.242047       0.252094    3.255660e+19  3.243652e+19   \n",
            "50%            5.479431       0.500056    5.530567e+19  5.490885e+19   \n",
            "75%            7.738020       0.750211    7.775961e+19  7.745861e+19   \n",
            "max            9.999954       0.999990    9.999935e+19  9.999921e+19   \n",
            "\n",
            "        Temperature  Confinement Time    Fuel Purity   Energy Input  \\\n",
            "count  1.000000e+05     100000.000000  100000.000000  100000.000000   \n",
            "mean   2.998482e+08          0.549042      99.949966     299.847605   \n",
            "std    1.153785e+08          0.259401       0.028833     115.405757   \n",
            "min    1.000002e+08          0.100011      99.900000     100.011093   \n",
            "25%    2.000062e+08          0.323836      99.925053     200.273055   \n",
            "50%    2.994371e+08          0.547832      99.949894     300.004962   \n",
            "75%    3.997211e+08          0.773525      99.974875     399.907316   \n",
            "max    4.999991e+08          0.999993      99.999999     499.983891   \n",
            "\n",
            "        Power Output      Pressure  Neutron Yield       Ignition  \n",
            "count  100000.000000  1.000000e+05   1.000000e+05  100000.000000  \n",
            "mean       49.927760  5.496187e+06   5.497144e+10       0.301000  \n",
            "std        28.839169  2.598644e+06   2.593742e+10       0.458695  \n",
            "min         0.000038  1.000012e+06   1.000212e+10       0.000000  \n",
            "25%        24.949832  3.260671e+06   3.261843e+10       0.000000  \n",
            "50%        49.996943  5.472069e+06   5.479343e+10       0.000000  \n",
            "75%        74.850152  7.757556e+06   7.744068e+10       1.000000  \n",
            "max        99.999523  9.999994e+06   9.999922e+10       1.000000  \n"
          ]
        }
      ],
      "source": [
        "# Display basic statistics\n",
        "print(data.describe())\n"
      ]
    },
    {
      "cell_type": "code",
      "execution_count": null,
      "metadata": {
        "colab": {
          "base_uri": "https://localhost:8080/"
        },
        "id": "r1eZPhd4C5C_",
        "outputId": "a34d456c-0940-4700-c2b9-35a59048695e"
      },
      "outputs": [
        {
          "output_type": "stream",
          "name": "stdout",
          "text": [
            "<class 'pandas.core.frame.DataFrame'>\n",
            "RangeIndex: 100000 entries, 0 to 99999\n",
            "Data columns (total 20 columns):\n",
            " #   Column                        Non-Null Count   Dtype  \n",
            "---  ------                        --------------   -----  \n",
            " 0   Unnamed: 0                    100000 non-null  int64  \n",
            " 1   Magnetic Field Fluctuations   100000 non-null  float64\n",
            " 2   Leakage                       100000 non-null  float64\n",
            " 3   Instabilities                 100000 non-null  float64\n",
            " 4   Plasma Instabilities          100000 non-null  float64\n",
            " 5   Magnetic Field Strength       100000 non-null  float64\n",
            " 6   Magnetic Field Configuration  100000 non-null  object \n",
            " 7   Injection Energy              100000 non-null  float64\n",
            " 8   Beam Symmetry                 100000 non-null  float64\n",
            " 9   Target Density                100000 non-null  float64\n",
            " 10  Target Composition            100000 non-null  object \n",
            " 11  Fuel Density                  100000 non-null  float64\n",
            " 12  Temperature                   100000 non-null  float64\n",
            " 13  Confinement Time              100000 non-null  float64\n",
            " 14  Fuel Purity                   100000 non-null  float64\n",
            " 15  Energy Input                  100000 non-null  float64\n",
            " 16  Power Output                  100000 non-null  float64\n",
            " 17  Pressure                      100000 non-null  float64\n",
            " 18  Neutron Yield                 100000 non-null  float64\n",
            " 19  Ignition                      100000 non-null  int64  \n",
            "dtypes: float64(16), int64(2), object(2)\n",
            "memory usage: 15.3+ MB\n"
          ]
        }
      ],
      "source": [
        "data.info()"
      ]
    },
    {
      "cell_type": "code",
      "execution_count": null,
      "metadata": {
        "colab": {
          "base_uri": "https://localhost:8080/"
        },
        "id": "0_uPO1M_C8S5",
        "outputId": "e01f0a48-eb39-4f60-a816-f1da2373bc07"
      },
      "outputs": [
        {
          "output_type": "execute_result",
          "data": {
            "text/plain": [
              "Index(['Unnamed: 0', 'Magnetic Field Fluctuations', 'Leakage', 'Instabilities',\n",
              "       'Plasma Instabilities', 'Magnetic Field Strength',\n",
              "       'Magnetic Field Configuration', 'Injection Energy', 'Beam Symmetry',\n",
              "       'Target Density', 'Target Composition', 'Fuel Density', 'Temperature',\n",
              "       'Confinement Time', 'Fuel Purity', 'Energy Input', 'Power Output',\n",
              "       'Pressure', 'Neutron Yield', 'Ignition'],\n",
              "      dtype='object')"
            ]
          },
          "metadata": {},
          "execution_count": 11
        }
      ],
      "source": [
        "data.columns"
      ]
    },
    {
      "cell_type": "markdown",
      "source": [
        "**PREPROCESSING**"
      ],
      "metadata": {
        "id": "ofk-y-iPtZE7"
      }
    },
    {
      "cell_type": "code",
      "execution_count": null,
      "metadata": {
        "colab": {
          "base_uri": "https://localhost:8080/",
          "height": 711
        },
        "id": "2DzI8NrMDDVb",
        "outputId": "a30f4a8f-0381-4a5c-f623-82ccbaa70bb0"
      },
      "outputs": [
        {
          "output_type": "execute_result",
          "data": {
            "text/plain": [
              "Unnamed: 0                      0\n",
              "Magnetic Field Fluctuations     0\n",
              "Leakage                         0\n",
              "Instabilities                   0\n",
              "Plasma Instabilities            0\n",
              "Magnetic Field Strength         0\n",
              "Magnetic Field Configuration    0\n",
              "Injection Energy                0\n",
              "Beam Symmetry                   0\n",
              "Target Density                  0\n",
              "Target Composition              0\n",
              "Fuel Density                    0\n",
              "Temperature                     0\n",
              "Confinement Time                0\n",
              "Fuel Purity                     0\n",
              "Energy Input                    0\n",
              "Power Output                    0\n",
              "Pressure                        0\n",
              "Neutron Yield                   0\n",
              "Ignition                        0\n",
              "dtype: int64"
            ],
            "text/html": [
              "<div>\n",
              "<style scoped>\n",
              "    .dataframe tbody tr th:only-of-type {\n",
              "        vertical-align: middle;\n",
              "    }\n",
              "\n",
              "    .dataframe tbody tr th {\n",
              "        vertical-align: top;\n",
              "    }\n",
              "\n",
              "    .dataframe thead th {\n",
              "        text-align: right;\n",
              "    }\n",
              "</style>\n",
              "<table border=\"1\" class=\"dataframe\">\n",
              "  <thead>\n",
              "    <tr style=\"text-align: right;\">\n",
              "      <th></th>\n",
              "      <th>0</th>\n",
              "    </tr>\n",
              "  </thead>\n",
              "  <tbody>\n",
              "    <tr>\n",
              "      <th>Unnamed: 0</th>\n",
              "      <td>0</td>\n",
              "    </tr>\n",
              "    <tr>\n",
              "      <th>Magnetic Field Fluctuations</th>\n",
              "      <td>0</td>\n",
              "    </tr>\n",
              "    <tr>\n",
              "      <th>Leakage</th>\n",
              "      <td>0</td>\n",
              "    </tr>\n",
              "    <tr>\n",
              "      <th>Instabilities</th>\n",
              "      <td>0</td>\n",
              "    </tr>\n",
              "    <tr>\n",
              "      <th>Plasma Instabilities</th>\n",
              "      <td>0</td>\n",
              "    </tr>\n",
              "    <tr>\n",
              "      <th>Magnetic Field Strength</th>\n",
              "      <td>0</td>\n",
              "    </tr>\n",
              "    <tr>\n",
              "      <th>Magnetic Field Configuration</th>\n",
              "      <td>0</td>\n",
              "    </tr>\n",
              "    <tr>\n",
              "      <th>Injection Energy</th>\n",
              "      <td>0</td>\n",
              "    </tr>\n",
              "    <tr>\n",
              "      <th>Beam Symmetry</th>\n",
              "      <td>0</td>\n",
              "    </tr>\n",
              "    <tr>\n",
              "      <th>Target Density</th>\n",
              "      <td>0</td>\n",
              "    </tr>\n",
              "    <tr>\n",
              "      <th>Target Composition</th>\n",
              "      <td>0</td>\n",
              "    </tr>\n",
              "    <tr>\n",
              "      <th>Fuel Density</th>\n",
              "      <td>0</td>\n",
              "    </tr>\n",
              "    <tr>\n",
              "      <th>Temperature</th>\n",
              "      <td>0</td>\n",
              "    </tr>\n",
              "    <tr>\n",
              "      <th>Confinement Time</th>\n",
              "      <td>0</td>\n",
              "    </tr>\n",
              "    <tr>\n",
              "      <th>Fuel Purity</th>\n",
              "      <td>0</td>\n",
              "    </tr>\n",
              "    <tr>\n",
              "      <th>Energy Input</th>\n",
              "      <td>0</td>\n",
              "    </tr>\n",
              "    <tr>\n",
              "      <th>Power Output</th>\n",
              "      <td>0</td>\n",
              "    </tr>\n",
              "    <tr>\n",
              "      <th>Pressure</th>\n",
              "      <td>0</td>\n",
              "    </tr>\n",
              "    <tr>\n",
              "      <th>Neutron Yield</th>\n",
              "      <td>0</td>\n",
              "    </tr>\n",
              "    <tr>\n",
              "      <th>Ignition</th>\n",
              "      <td>0</td>\n",
              "    </tr>\n",
              "  </tbody>\n",
              "</table>\n",
              "</div><br><label><b>dtype:</b> int64</label>"
            ]
          },
          "metadata": {},
          "execution_count": 12
        }
      ],
      "source": [
        "data.isnull().sum()"
      ]
    },
    {
      "cell_type": "code",
      "execution_count": null,
      "metadata": {
        "id": "zthhBIhCDNrK"
      },
      "outputs": [],
      "source": [
        "#Removes whitespace from the begening and end of the column name\n",
        "data.columns = data.columns.str.strip()\n"
      ]
    },
    {
      "cell_type": "code",
      "execution_count": null,
      "metadata": {
        "colab": {
          "base_uri": "https://localhost:8080/"
        },
        "id": "auFpW1MQW2qe",
        "outputId": "6e86074e-627b-4374-a152-5c59a641af6f"
      },
      "outputs": [
        {
          "output_type": "execute_result",
          "data": {
            "text/plain": [
              "array(['tokamak', 'reversed field pinch', 'stellarator'], dtype=object)"
            ]
          },
          "metadata": {},
          "execution_count": 14
        }
      ],
      "source": [
        "data[\"Magnetic Field Configuration\"].unique()\n"
      ]
    },
    {
      "cell_type": "code",
      "execution_count": null,
      "metadata": {
        "colab": {
          "base_uri": "https://localhost:8080/",
          "height": 423
        },
        "id": "_fnylE8vW2nH",
        "outputId": "3fb86cfb-18ea-4f49-cb8c-105ebc3634d8"
      },
      "outputs": [
        {
          "output_type": "execute_result",
          "data": {
            "text/plain": [
              "       reversed field pinch  stellarator  tokamak\n",
              "0                         0            0        1\n",
              "1                         1            0        0\n",
              "2                         0            1        0\n",
              "3                         0            0        1\n",
              "4                         1            0        0\n",
              "...                     ...          ...      ...\n",
              "99995                     0            0        1\n",
              "99996                     1            0        0\n",
              "99997                     0            0        1\n",
              "99998                     0            0        1\n",
              "99999                     0            0        1\n",
              "\n",
              "[100000 rows x 3 columns]"
            ],
            "text/html": [
              "\n",
              "  <div id=\"df-1dabc286-5783-4444-868a-729e90990ad8\" class=\"colab-df-container\">\n",
              "    <div>\n",
              "<style scoped>\n",
              "    .dataframe tbody tr th:only-of-type {\n",
              "        vertical-align: middle;\n",
              "    }\n",
              "\n",
              "    .dataframe tbody tr th {\n",
              "        vertical-align: top;\n",
              "    }\n",
              "\n",
              "    .dataframe thead th {\n",
              "        text-align: right;\n",
              "    }\n",
              "</style>\n",
              "<table border=\"1\" class=\"dataframe\">\n",
              "  <thead>\n",
              "    <tr style=\"text-align: right;\">\n",
              "      <th></th>\n",
              "      <th>reversed field pinch</th>\n",
              "      <th>stellarator</th>\n",
              "      <th>tokamak</th>\n",
              "    </tr>\n",
              "  </thead>\n",
              "  <tbody>\n",
              "    <tr>\n",
              "      <th>0</th>\n",
              "      <td>0</td>\n",
              "      <td>0</td>\n",
              "      <td>1</td>\n",
              "    </tr>\n",
              "    <tr>\n",
              "      <th>1</th>\n",
              "      <td>1</td>\n",
              "      <td>0</td>\n",
              "      <td>0</td>\n",
              "    </tr>\n",
              "    <tr>\n",
              "      <th>2</th>\n",
              "      <td>0</td>\n",
              "      <td>1</td>\n",
              "      <td>0</td>\n",
              "    </tr>\n",
              "    <tr>\n",
              "      <th>3</th>\n",
              "      <td>0</td>\n",
              "      <td>0</td>\n",
              "      <td>1</td>\n",
              "    </tr>\n",
              "    <tr>\n",
              "      <th>4</th>\n",
              "      <td>1</td>\n",
              "      <td>0</td>\n",
              "      <td>0</td>\n",
              "    </tr>\n",
              "    <tr>\n",
              "      <th>...</th>\n",
              "      <td>...</td>\n",
              "      <td>...</td>\n",
              "      <td>...</td>\n",
              "    </tr>\n",
              "    <tr>\n",
              "      <th>99995</th>\n",
              "      <td>0</td>\n",
              "      <td>0</td>\n",
              "      <td>1</td>\n",
              "    </tr>\n",
              "    <tr>\n",
              "      <th>99996</th>\n",
              "      <td>1</td>\n",
              "      <td>0</td>\n",
              "      <td>0</td>\n",
              "    </tr>\n",
              "    <tr>\n",
              "      <th>99997</th>\n",
              "      <td>0</td>\n",
              "      <td>0</td>\n",
              "      <td>1</td>\n",
              "    </tr>\n",
              "    <tr>\n",
              "      <th>99998</th>\n",
              "      <td>0</td>\n",
              "      <td>0</td>\n",
              "      <td>1</td>\n",
              "    </tr>\n",
              "    <tr>\n",
              "      <th>99999</th>\n",
              "      <td>0</td>\n",
              "      <td>0</td>\n",
              "      <td>1</td>\n",
              "    </tr>\n",
              "  </tbody>\n",
              "</table>\n",
              "<p>100000 rows × 3 columns</p>\n",
              "</div>\n",
              "    <div class=\"colab-df-buttons\">\n",
              "\n",
              "  <div class=\"colab-df-container\">\n",
              "    <button class=\"colab-df-convert\" onclick=\"convertToInteractive('df-1dabc286-5783-4444-868a-729e90990ad8')\"\n",
              "            title=\"Convert this dataframe to an interactive table.\"\n",
              "            style=\"display:none;\">\n",
              "\n",
              "  <svg xmlns=\"http://www.w3.org/2000/svg\" height=\"24px\" viewBox=\"0 -960 960 960\">\n",
              "    <path d=\"M120-120v-720h720v720H120Zm60-500h600v-160H180v160Zm220 220h160v-160H400v160Zm0 220h160v-160H400v160ZM180-400h160v-160H180v160Zm440 0h160v-160H620v160ZM180-180h160v-160H180v160Zm440 0h160v-160H620v160Z\"/>\n",
              "  </svg>\n",
              "    </button>\n",
              "\n",
              "  <style>\n",
              "    .colab-df-container {\n",
              "      display:flex;\n",
              "      gap: 12px;\n",
              "    }\n",
              "\n",
              "    .colab-df-convert {\n",
              "      background-color: #E8F0FE;\n",
              "      border: none;\n",
              "      border-radius: 50%;\n",
              "      cursor: pointer;\n",
              "      display: none;\n",
              "      fill: #1967D2;\n",
              "      height: 32px;\n",
              "      padding: 0 0 0 0;\n",
              "      width: 32px;\n",
              "    }\n",
              "\n",
              "    .colab-df-convert:hover {\n",
              "      background-color: #E2EBFA;\n",
              "      box-shadow: 0px 1px 2px rgba(60, 64, 67, 0.3), 0px 1px 3px 1px rgba(60, 64, 67, 0.15);\n",
              "      fill: #174EA6;\n",
              "    }\n",
              "\n",
              "    .colab-df-buttons div {\n",
              "      margin-bottom: 4px;\n",
              "    }\n",
              "\n",
              "    [theme=dark] .colab-df-convert {\n",
              "      background-color: #3B4455;\n",
              "      fill: #D2E3FC;\n",
              "    }\n",
              "\n",
              "    [theme=dark] .colab-df-convert:hover {\n",
              "      background-color: #434B5C;\n",
              "      box-shadow: 0px 1px 3px 1px rgba(0, 0, 0, 0.15);\n",
              "      filter: drop-shadow(0px 1px 2px rgba(0, 0, 0, 0.3));\n",
              "      fill: #FFFFFF;\n",
              "    }\n",
              "  </style>\n",
              "\n",
              "    <script>\n",
              "      const buttonEl =\n",
              "        document.querySelector('#df-1dabc286-5783-4444-868a-729e90990ad8 button.colab-df-convert');\n",
              "      buttonEl.style.display =\n",
              "        google.colab.kernel.accessAllowed ? 'block' : 'none';\n",
              "\n",
              "      async function convertToInteractive(key) {\n",
              "        const element = document.querySelector('#df-1dabc286-5783-4444-868a-729e90990ad8');\n",
              "        const dataTable =\n",
              "          await google.colab.kernel.invokeFunction('convertToInteractive',\n",
              "                                                    [key], {});\n",
              "        if (!dataTable) return;\n",
              "\n",
              "        const docLinkHtml = 'Like what you see? Visit the ' +\n",
              "          '<a target=\"_blank\" href=https://colab.research.google.com/notebooks/data_table.ipynb>data table notebook</a>'\n",
              "          + ' to learn more about interactive tables.';\n",
              "        element.innerHTML = '';\n",
              "        dataTable['output_type'] = 'display_data';\n",
              "        await google.colab.output.renderOutput(dataTable, element);\n",
              "        const docLink = document.createElement('div');\n",
              "        docLink.innerHTML = docLinkHtml;\n",
              "        element.appendChild(docLink);\n",
              "      }\n",
              "    </script>\n",
              "  </div>\n",
              "\n",
              "\n",
              "<div id=\"df-607ea56e-f591-4961-828c-4c1b09ee01b3\">\n",
              "  <button class=\"colab-df-quickchart\" onclick=\"quickchart('df-607ea56e-f591-4961-828c-4c1b09ee01b3')\"\n",
              "            title=\"Suggest charts\"\n",
              "            style=\"display:none;\">\n",
              "\n",
              "<svg xmlns=\"http://www.w3.org/2000/svg\" height=\"24px\"viewBox=\"0 0 24 24\"\n",
              "     width=\"24px\">\n",
              "    <g>\n",
              "        <path d=\"M19 3H5c-1.1 0-2 .9-2 2v14c0 1.1.9 2 2 2h14c1.1 0 2-.9 2-2V5c0-1.1-.9-2-2-2zM9 17H7v-7h2v7zm4 0h-2V7h2v10zm4 0h-2v-4h2v4z\"/>\n",
              "    </g>\n",
              "</svg>\n",
              "  </button>\n",
              "\n",
              "<style>\n",
              "  .colab-df-quickchart {\n",
              "      --bg-color: #E8F0FE;\n",
              "      --fill-color: #1967D2;\n",
              "      --hover-bg-color: #E2EBFA;\n",
              "      --hover-fill-color: #174EA6;\n",
              "      --disabled-fill-color: #AAA;\n",
              "      --disabled-bg-color: #DDD;\n",
              "  }\n",
              "\n",
              "  [theme=dark] .colab-df-quickchart {\n",
              "      --bg-color: #3B4455;\n",
              "      --fill-color: #D2E3FC;\n",
              "      --hover-bg-color: #434B5C;\n",
              "      --hover-fill-color: #FFFFFF;\n",
              "      --disabled-bg-color: #3B4455;\n",
              "      --disabled-fill-color: #666;\n",
              "  }\n",
              "\n",
              "  .colab-df-quickchart {\n",
              "    background-color: var(--bg-color);\n",
              "    border: none;\n",
              "    border-radius: 50%;\n",
              "    cursor: pointer;\n",
              "    display: none;\n",
              "    fill: var(--fill-color);\n",
              "    height: 32px;\n",
              "    padding: 0;\n",
              "    width: 32px;\n",
              "  }\n",
              "\n",
              "  .colab-df-quickchart:hover {\n",
              "    background-color: var(--hover-bg-color);\n",
              "    box-shadow: 0 1px 2px rgba(60, 64, 67, 0.3), 0 1px 3px 1px rgba(60, 64, 67, 0.15);\n",
              "    fill: var(--button-hover-fill-color);\n",
              "  }\n",
              "\n",
              "  .colab-df-quickchart-complete:disabled,\n",
              "  .colab-df-quickchart-complete:disabled:hover {\n",
              "    background-color: var(--disabled-bg-color);\n",
              "    fill: var(--disabled-fill-color);\n",
              "    box-shadow: none;\n",
              "  }\n",
              "\n",
              "  .colab-df-spinner {\n",
              "    border: 2px solid var(--fill-color);\n",
              "    border-color: transparent;\n",
              "    border-bottom-color: var(--fill-color);\n",
              "    animation:\n",
              "      spin 1s steps(1) infinite;\n",
              "  }\n",
              "\n",
              "  @keyframes spin {\n",
              "    0% {\n",
              "      border-color: transparent;\n",
              "      border-bottom-color: var(--fill-color);\n",
              "      border-left-color: var(--fill-color);\n",
              "    }\n",
              "    20% {\n",
              "      border-color: transparent;\n",
              "      border-left-color: var(--fill-color);\n",
              "      border-top-color: var(--fill-color);\n",
              "    }\n",
              "    30% {\n",
              "      border-color: transparent;\n",
              "      border-left-color: var(--fill-color);\n",
              "      border-top-color: var(--fill-color);\n",
              "      border-right-color: var(--fill-color);\n",
              "    }\n",
              "    40% {\n",
              "      border-color: transparent;\n",
              "      border-right-color: var(--fill-color);\n",
              "      border-top-color: var(--fill-color);\n",
              "    }\n",
              "    60% {\n",
              "      border-color: transparent;\n",
              "      border-right-color: var(--fill-color);\n",
              "    }\n",
              "    80% {\n",
              "      border-color: transparent;\n",
              "      border-right-color: var(--fill-color);\n",
              "      border-bottom-color: var(--fill-color);\n",
              "    }\n",
              "    90% {\n",
              "      border-color: transparent;\n",
              "      border-bottom-color: var(--fill-color);\n",
              "    }\n",
              "  }\n",
              "</style>\n",
              "\n",
              "  <script>\n",
              "    async function quickchart(key) {\n",
              "      const quickchartButtonEl =\n",
              "        document.querySelector('#' + key + ' button');\n",
              "      quickchartButtonEl.disabled = true;  // To prevent multiple clicks.\n",
              "      quickchartButtonEl.classList.add('colab-df-spinner');\n",
              "      try {\n",
              "        const charts = await google.colab.kernel.invokeFunction(\n",
              "            'suggestCharts', [key], {});\n",
              "      } catch (error) {\n",
              "        console.error('Error during call to suggestCharts:', error);\n",
              "      }\n",
              "      quickchartButtonEl.classList.remove('colab-df-spinner');\n",
              "      quickchartButtonEl.classList.add('colab-df-quickchart-complete');\n",
              "    }\n",
              "    (() => {\n",
              "      let quickchartButtonEl =\n",
              "        document.querySelector('#df-607ea56e-f591-4961-828c-4c1b09ee01b3 button');\n",
              "      quickchartButtonEl.style.display =\n",
              "        google.colab.kernel.accessAllowed ? 'block' : 'none';\n",
              "    })();\n",
              "  </script>\n",
              "</div>\n",
              "\n",
              "  <div id=\"id_75439d9e-4caf-4764-baa4-e3152ef260a7\">\n",
              "    <style>\n",
              "      .colab-df-generate {\n",
              "        background-color: #E8F0FE;\n",
              "        border: none;\n",
              "        border-radius: 50%;\n",
              "        cursor: pointer;\n",
              "        display: none;\n",
              "        fill: #1967D2;\n",
              "        height: 32px;\n",
              "        padding: 0 0 0 0;\n",
              "        width: 32px;\n",
              "      }\n",
              "\n",
              "      .colab-df-generate:hover {\n",
              "        background-color: #E2EBFA;\n",
              "        box-shadow: 0px 1px 2px rgba(60, 64, 67, 0.3), 0px 1px 3px 1px rgba(60, 64, 67, 0.15);\n",
              "        fill: #174EA6;\n",
              "      }\n",
              "\n",
              "      [theme=dark] .colab-df-generate {\n",
              "        background-color: #3B4455;\n",
              "        fill: #D2E3FC;\n",
              "      }\n",
              "\n",
              "      [theme=dark] .colab-df-generate:hover {\n",
              "        background-color: #434B5C;\n",
              "        box-shadow: 0px 1px 3px 1px rgba(0, 0, 0, 0.15);\n",
              "        filter: drop-shadow(0px 1px 2px rgba(0, 0, 0, 0.3));\n",
              "        fill: #FFFFFF;\n",
              "      }\n",
              "    </style>\n",
              "    <button class=\"colab-df-generate\" onclick=\"generateWithVariable('dummies')\"\n",
              "            title=\"Generate code using this dataframe.\"\n",
              "            style=\"display:none;\">\n",
              "\n",
              "  <svg xmlns=\"http://www.w3.org/2000/svg\" height=\"24px\"viewBox=\"0 0 24 24\"\n",
              "       width=\"24px\">\n",
              "    <path d=\"M7,19H8.4L18.45,9,17,7.55,7,17.6ZM5,21V16.75L18.45,3.32a2,2,0,0,1,2.83,0l1.4,1.43a1.91,1.91,0,0,1,.58,1.4,1.91,1.91,0,0,1-.58,1.4L9.25,21ZM18.45,9,17,7.55Zm-12,3A5.31,5.31,0,0,0,4.9,8.1,5.31,5.31,0,0,0,1,6.5,5.31,5.31,0,0,0,4.9,4.9,5.31,5.31,0,0,0,6.5,1,5.31,5.31,0,0,0,8.1,4.9,5.31,5.31,0,0,0,12,6.5,5.46,5.46,0,0,0,6.5,12Z\"/>\n",
              "  </svg>\n",
              "    </button>\n",
              "    <script>\n",
              "      (() => {\n",
              "      const buttonEl =\n",
              "        document.querySelector('#id_75439d9e-4caf-4764-baa4-e3152ef260a7 button.colab-df-generate');\n",
              "      buttonEl.style.display =\n",
              "        google.colab.kernel.accessAllowed ? 'block' : 'none';\n",
              "\n",
              "      buttonEl.onclick = () => {\n",
              "        google.colab.notebook.generateWithVariable('dummies');\n",
              "      }\n",
              "      })();\n",
              "    </script>\n",
              "  </div>\n",
              "\n",
              "    </div>\n",
              "  </div>\n"
            ],
            "application/vnd.google.colaboratory.intrinsic+json": {
              "type": "dataframe",
              "variable_name": "dummies",
              "summary": "{\n  \"name\": \"dummies\",\n  \"rows\": 100000,\n  \"fields\": [\n    {\n      \"column\": \"reversed field pinch\",\n      \"properties\": {\n        \"dtype\": \"number\",\n        \"std\": 0,\n        \"min\": 0,\n        \"max\": 1,\n        \"num_unique_values\": 2,\n        \"samples\": [\n          1,\n          0\n        ],\n        \"semantic_type\": \"\",\n        \"description\": \"\"\n      }\n    },\n    {\n      \"column\": \"stellarator\",\n      \"properties\": {\n        \"dtype\": \"number\",\n        \"std\": 0,\n        \"min\": 0,\n        \"max\": 1,\n        \"num_unique_values\": 2,\n        \"samples\": [\n          1,\n          0\n        ],\n        \"semantic_type\": \"\",\n        \"description\": \"\"\n      }\n    },\n    {\n      \"column\": \"tokamak\",\n      \"properties\": {\n        \"dtype\": \"number\",\n        \"std\": 0,\n        \"min\": 0,\n        \"max\": 1,\n        \"num_unique_values\": 2,\n        \"samples\": [\n          0,\n          1\n        ],\n        \"semantic_type\": \"\",\n        \"description\": \"\"\n      }\n    }\n  ]\n}"
            }
          },
          "metadata": {},
          "execution_count": 15
        }
      ],
      "source": [
        "dummies  = pd.get_dummies(data[\"Magnetic Field Configuration\"], dtype=int)\n",
        "dummies"
      ]
    },
    {
      "cell_type": "code",
      "execution_count": null,
      "metadata": {
        "id": "GF6NnaoFW2kg"
      },
      "outputs": [],
      "source": [
        "# Concatenate with the original DataFrame\n",
        "data = pd.concat([data, dummies], axis=1)"
      ]
    },
    {
      "cell_type": "code",
      "execution_count": null,
      "metadata": {
        "id": "CvJH6g6ZW2h3"
      },
      "outputs": [],
      "source": [
        "dummies  = pd.get_dummies(data[\"Target Composition\"], dtype=int)"
      ]
    },
    {
      "cell_type": "code",
      "execution_count": null,
      "metadata": {
        "id": "Pf_sMHfLW2eo"
      },
      "outputs": [],
      "source": [
        "data = pd.concat([data, dummies], axis=1)"
      ]
    },
    {
      "cell_type": "code",
      "execution_count": null,
      "metadata": {
        "colab": {
          "base_uri": "https://localhost:8080/",
          "height": 530
        },
        "id": "cwr0VwxmXdFg",
        "outputId": "024a9025-f085-450d-9a76-0dabd05485d3"
      },
      "outputs": [
        {
          "output_type": "execute_result",
          "data": {
            "text/plain": [
              "       Unnamed: 0  Magnetic Field Fluctuations   Leakage  Instabilities  \\\n",
              "0               0                     0.037454  0.058078       0.028259   \n",
              "1               1                     0.095071  0.052697       0.045868   \n",
              "2               2                     0.073199  0.035104       0.009922   \n",
              "3               3                     0.059866  0.049321       0.044684   \n",
              "4               4                     0.015602  0.036510       0.020308   \n",
              "...           ...                          ...       ...            ...   \n",
              "99995       99995                     0.079230  0.062215       0.009281   \n",
              "99996       99996                     0.077925  0.062922       0.062563   \n",
              "99997       99997                     0.067445  0.019220       0.062666   \n",
              "99998       99998                     0.049945  0.065308       0.004765   \n",
              "99999       99999                     0.038991  0.000156       0.070408   \n",
              "\n",
              "       Plasma Instabilities  Magnetic Field Strength  \\\n",
              "0                  0.015705                 9.000578   \n",
              "1                  0.009551                 3.841421   \n",
              "2                  0.013794                 1.467187   \n",
              "3                  0.047349                 9.277696   \n",
              "4                  0.088453                 4.926347   \n",
              "...                     ...                      ...   \n",
              "99995              0.075015                 6.989681   \n",
              "99996              0.027253                 9.904975   \n",
              "99997              0.057559                 5.389669   \n",
              "99998              0.089334                 6.984881   \n",
              "99999              0.050242                 6.640008   \n",
              "\n",
              "      Magnetic Field Configuration  Injection Energy  Beam Symmetry  \\\n",
              "0                          tokamak          5.713125       0.800007   \n",
              "1             reversed field pinch          9.819548       0.082642   \n",
              "2                      stellarator          7.016781       0.176319   \n",
              "3                          tokamak          4.018930       0.833709   \n",
              "4             reversed field pinch          6.145836       0.808161   \n",
              "...                            ...               ...            ...   \n",
              "99995                      tokamak          8.363230       0.080241   \n",
              "99996         reversed field pinch          3.718771       0.977716   \n",
              "99997                      tokamak          8.788397       0.374680   \n",
              "99998                      tokamak          3.024949       0.926179   \n",
              "99999                      tokamak          6.296842       0.885714   \n",
              "\n",
              "       Target Density  ... Power Output      Pressure  Neutron Yield  \\\n",
              "0        2.026963e+19  ...    55.321517  6.107792e+06   5.443404e+10   \n",
              "1        3.050685e+19  ...    22.767959  4.921946e+06   8.372016e+10   \n",
              "2        5.287388e+19  ...    49.872944  9.798230e+06   8.112584e+10   \n",
              "3        5.961305e+19  ...     2.656182  5.611293e+06   4.423307e+10   \n",
              "4        7.887942e+19  ...    48.096005  8.541064e+06   2.245276e+10   \n",
              "...               ...  ...          ...           ...            ...   \n",
              "99995    6.220430e+19  ...    51.822726  9.611845e+06   6.252602e+10   \n",
              "99996    3.429971e+19  ...     9.746068  1.099463e+06   4.545773e+10   \n",
              "99997    4.750184e+19  ...    69.116870  7.473165e+06   7.240109e+10   \n",
              "99998    3.030606e+19  ...    31.591851  6.759779e+06   7.576517e+10   \n",
              "99999    7.313929e+19  ...    92.487755  5.169346e+06   9.004981e+10   \n",
              "\n",
              "       Ignition  reversed field pinch  stellarator  tokamak  deuterium  \\\n",
              "0             0                     0            0        1          1   \n",
              "1             0                     1            0        0          0   \n",
              "2             1                     0            1        0          0   \n",
              "3             1                     0            0        1          0   \n",
              "4             0                     1            0        0          1   \n",
              "...         ...                   ...          ...      ...        ...   \n",
              "99995         0                     0            0        1          0   \n",
              "99996         0                     1            0        0          0   \n",
              "99997         0                     0            0        1          0   \n",
              "99998         0                     0            0        1          0   \n",
              "99999         0                     0            0        1          1   \n",
              "\n",
              "       deuterium-tritium  tritium  \n",
              "0                      0        0  \n",
              "1                      1        0  \n",
              "2                      0        1  \n",
              "3                      1        0  \n",
              "4                      0        0  \n",
              "...                  ...      ...  \n",
              "99995                  1        0  \n",
              "99996                  0        1  \n",
              "99997                  0        1  \n",
              "99998                  1        0  \n",
              "99999                  0        0  \n",
              "\n",
              "[100000 rows x 26 columns]"
            ],
            "text/html": [
              "\n",
              "  <div id=\"df-c393a536-c244-402b-beb4-8fe13bbf1c65\" class=\"colab-df-container\">\n",
              "    <div>\n",
              "<style scoped>\n",
              "    .dataframe tbody tr th:only-of-type {\n",
              "        vertical-align: middle;\n",
              "    }\n",
              "\n",
              "    .dataframe tbody tr th {\n",
              "        vertical-align: top;\n",
              "    }\n",
              "\n",
              "    .dataframe thead th {\n",
              "        text-align: right;\n",
              "    }\n",
              "</style>\n",
              "<table border=\"1\" class=\"dataframe\">\n",
              "  <thead>\n",
              "    <tr style=\"text-align: right;\">\n",
              "      <th></th>\n",
              "      <th>Unnamed: 0</th>\n",
              "      <th>Magnetic Field Fluctuations</th>\n",
              "      <th>Leakage</th>\n",
              "      <th>Instabilities</th>\n",
              "      <th>Plasma Instabilities</th>\n",
              "      <th>Magnetic Field Strength</th>\n",
              "      <th>Magnetic Field Configuration</th>\n",
              "      <th>Injection Energy</th>\n",
              "      <th>Beam Symmetry</th>\n",
              "      <th>Target Density</th>\n",
              "      <th>...</th>\n",
              "      <th>Power Output</th>\n",
              "      <th>Pressure</th>\n",
              "      <th>Neutron Yield</th>\n",
              "      <th>Ignition</th>\n",
              "      <th>reversed field pinch</th>\n",
              "      <th>stellarator</th>\n",
              "      <th>tokamak</th>\n",
              "      <th>deuterium</th>\n",
              "      <th>deuterium-tritium</th>\n",
              "      <th>tritium</th>\n",
              "    </tr>\n",
              "  </thead>\n",
              "  <tbody>\n",
              "    <tr>\n",
              "      <th>0</th>\n",
              "      <td>0</td>\n",
              "      <td>0.037454</td>\n",
              "      <td>0.058078</td>\n",
              "      <td>0.028259</td>\n",
              "      <td>0.015705</td>\n",
              "      <td>9.000578</td>\n",
              "      <td>tokamak</td>\n",
              "      <td>5.713125</td>\n",
              "      <td>0.800007</td>\n",
              "      <td>2.026963e+19</td>\n",
              "      <td>...</td>\n",
              "      <td>55.321517</td>\n",
              "      <td>6.107792e+06</td>\n",
              "      <td>5.443404e+10</td>\n",
              "      <td>0</td>\n",
              "      <td>0</td>\n",
              "      <td>0</td>\n",
              "      <td>1</td>\n",
              "      <td>1</td>\n",
              "      <td>0</td>\n",
              "      <td>0</td>\n",
              "    </tr>\n",
              "    <tr>\n",
              "      <th>1</th>\n",
              "      <td>1</td>\n",
              "      <td>0.095071</td>\n",
              "      <td>0.052697</td>\n",
              "      <td>0.045868</td>\n",
              "      <td>0.009551</td>\n",
              "      <td>3.841421</td>\n",
              "      <td>reversed field pinch</td>\n",
              "      <td>9.819548</td>\n",
              "      <td>0.082642</td>\n",
              "      <td>3.050685e+19</td>\n",
              "      <td>...</td>\n",
              "      <td>22.767959</td>\n",
              "      <td>4.921946e+06</td>\n",
              "      <td>8.372016e+10</td>\n",
              "      <td>0</td>\n",
              "      <td>1</td>\n",
              "      <td>0</td>\n",
              "      <td>0</td>\n",
              "      <td>0</td>\n",
              "      <td>1</td>\n",
              "      <td>0</td>\n",
              "    </tr>\n",
              "    <tr>\n",
              "      <th>2</th>\n",
              "      <td>2</td>\n",
              "      <td>0.073199</td>\n",
              "      <td>0.035104</td>\n",
              "      <td>0.009922</td>\n",
              "      <td>0.013794</td>\n",
              "      <td>1.467187</td>\n",
              "      <td>stellarator</td>\n",
              "      <td>7.016781</td>\n",
              "      <td>0.176319</td>\n",
              "      <td>5.287388e+19</td>\n",
              "      <td>...</td>\n",
              "      <td>49.872944</td>\n",
              "      <td>9.798230e+06</td>\n",
              "      <td>8.112584e+10</td>\n",
              "      <td>1</td>\n",
              "      <td>0</td>\n",
              "      <td>1</td>\n",
              "      <td>0</td>\n",
              "      <td>0</td>\n",
              "      <td>0</td>\n",
              "      <td>1</td>\n",
              "    </tr>\n",
              "    <tr>\n",
              "      <th>3</th>\n",
              "      <td>3</td>\n",
              "      <td>0.059866</td>\n",
              "      <td>0.049321</td>\n",
              "      <td>0.044684</td>\n",
              "      <td>0.047349</td>\n",
              "      <td>9.277696</td>\n",
              "      <td>tokamak</td>\n",
              "      <td>4.018930</td>\n",
              "      <td>0.833709</td>\n",
              "      <td>5.961305e+19</td>\n",
              "      <td>...</td>\n",
              "      <td>2.656182</td>\n",
              "      <td>5.611293e+06</td>\n",
              "      <td>4.423307e+10</td>\n",
              "      <td>1</td>\n",
              "      <td>0</td>\n",
              "      <td>0</td>\n",
              "      <td>1</td>\n",
              "      <td>0</td>\n",
              "      <td>1</td>\n",
              "      <td>0</td>\n",
              "    </tr>\n",
              "    <tr>\n",
              "      <th>4</th>\n",
              "      <td>4</td>\n",
              "      <td>0.015602</td>\n",
              "      <td>0.036510</td>\n",
              "      <td>0.020308</td>\n",
              "      <td>0.088453</td>\n",
              "      <td>4.926347</td>\n",
              "      <td>reversed field pinch</td>\n",
              "      <td>6.145836</td>\n",
              "      <td>0.808161</td>\n",
              "      <td>7.887942e+19</td>\n",
              "      <td>...</td>\n",
              "      <td>48.096005</td>\n",
              "      <td>8.541064e+06</td>\n",
              "      <td>2.245276e+10</td>\n",
              "      <td>0</td>\n",
              "      <td>1</td>\n",
              "      <td>0</td>\n",
              "      <td>0</td>\n",
              "      <td>1</td>\n",
              "      <td>0</td>\n",
              "      <td>0</td>\n",
              "    </tr>\n",
              "    <tr>\n",
              "      <th>...</th>\n",
              "      <td>...</td>\n",
              "      <td>...</td>\n",
              "      <td>...</td>\n",
              "      <td>...</td>\n",
              "      <td>...</td>\n",
              "      <td>...</td>\n",
              "      <td>...</td>\n",
              "      <td>...</td>\n",
              "      <td>...</td>\n",
              "      <td>...</td>\n",
              "      <td>...</td>\n",
              "      <td>...</td>\n",
              "      <td>...</td>\n",
              "      <td>...</td>\n",
              "      <td>...</td>\n",
              "      <td>...</td>\n",
              "      <td>...</td>\n",
              "      <td>...</td>\n",
              "      <td>...</td>\n",
              "      <td>...</td>\n",
              "      <td>...</td>\n",
              "    </tr>\n",
              "    <tr>\n",
              "      <th>99995</th>\n",
              "      <td>99995</td>\n",
              "      <td>0.079230</td>\n",
              "      <td>0.062215</td>\n",
              "      <td>0.009281</td>\n",
              "      <td>0.075015</td>\n",
              "      <td>6.989681</td>\n",
              "      <td>tokamak</td>\n",
              "      <td>8.363230</td>\n",
              "      <td>0.080241</td>\n",
              "      <td>6.220430e+19</td>\n",
              "      <td>...</td>\n",
              "      <td>51.822726</td>\n",
              "      <td>9.611845e+06</td>\n",
              "      <td>6.252602e+10</td>\n",
              "      <td>0</td>\n",
              "      <td>0</td>\n",
              "      <td>0</td>\n",
              "      <td>1</td>\n",
              "      <td>0</td>\n",
              "      <td>1</td>\n",
              "      <td>0</td>\n",
              "    </tr>\n",
              "    <tr>\n",
              "      <th>99996</th>\n",
              "      <td>99996</td>\n",
              "      <td>0.077925</td>\n",
              "      <td>0.062922</td>\n",
              "      <td>0.062563</td>\n",
              "      <td>0.027253</td>\n",
              "      <td>9.904975</td>\n",
              "      <td>reversed field pinch</td>\n",
              "      <td>3.718771</td>\n",
              "      <td>0.977716</td>\n",
              "      <td>3.429971e+19</td>\n",
              "      <td>...</td>\n",
              "      <td>9.746068</td>\n",
              "      <td>1.099463e+06</td>\n",
              "      <td>4.545773e+10</td>\n",
              "      <td>0</td>\n",
              "      <td>1</td>\n",
              "      <td>0</td>\n",
              "      <td>0</td>\n",
              "      <td>0</td>\n",
              "      <td>0</td>\n",
              "      <td>1</td>\n",
              "    </tr>\n",
              "    <tr>\n",
              "      <th>99997</th>\n",
              "      <td>99997</td>\n",
              "      <td>0.067445</td>\n",
              "      <td>0.019220</td>\n",
              "      <td>0.062666</td>\n",
              "      <td>0.057559</td>\n",
              "      <td>5.389669</td>\n",
              "      <td>tokamak</td>\n",
              "      <td>8.788397</td>\n",
              "      <td>0.374680</td>\n",
              "      <td>4.750184e+19</td>\n",
              "      <td>...</td>\n",
              "      <td>69.116870</td>\n",
              "      <td>7.473165e+06</td>\n",
              "      <td>7.240109e+10</td>\n",
              "      <td>0</td>\n",
              "      <td>0</td>\n",
              "      <td>0</td>\n",
              "      <td>1</td>\n",
              "      <td>0</td>\n",
              "      <td>0</td>\n",
              "      <td>1</td>\n",
              "    </tr>\n",
              "    <tr>\n",
              "      <th>99998</th>\n",
              "      <td>99998</td>\n",
              "      <td>0.049945</td>\n",
              "      <td>0.065308</td>\n",
              "      <td>0.004765</td>\n",
              "      <td>0.089334</td>\n",
              "      <td>6.984881</td>\n",
              "      <td>tokamak</td>\n",
              "      <td>3.024949</td>\n",
              "      <td>0.926179</td>\n",
              "      <td>3.030606e+19</td>\n",
              "      <td>...</td>\n",
              "      <td>31.591851</td>\n",
              "      <td>6.759779e+06</td>\n",
              "      <td>7.576517e+10</td>\n",
              "      <td>0</td>\n",
              "      <td>0</td>\n",
              "      <td>0</td>\n",
              "      <td>1</td>\n",
              "      <td>0</td>\n",
              "      <td>1</td>\n",
              "      <td>0</td>\n",
              "    </tr>\n",
              "    <tr>\n",
              "      <th>99999</th>\n",
              "      <td>99999</td>\n",
              "      <td>0.038991</td>\n",
              "      <td>0.000156</td>\n",
              "      <td>0.070408</td>\n",
              "      <td>0.050242</td>\n",
              "      <td>6.640008</td>\n",
              "      <td>tokamak</td>\n",
              "      <td>6.296842</td>\n",
              "      <td>0.885714</td>\n",
              "      <td>7.313929e+19</td>\n",
              "      <td>...</td>\n",
              "      <td>92.487755</td>\n",
              "      <td>5.169346e+06</td>\n",
              "      <td>9.004981e+10</td>\n",
              "      <td>0</td>\n",
              "      <td>0</td>\n",
              "      <td>0</td>\n",
              "      <td>1</td>\n",
              "      <td>1</td>\n",
              "      <td>0</td>\n",
              "      <td>0</td>\n",
              "    </tr>\n",
              "  </tbody>\n",
              "</table>\n",
              "<p>100000 rows × 26 columns</p>\n",
              "</div>\n",
              "    <div class=\"colab-df-buttons\">\n",
              "\n",
              "  <div class=\"colab-df-container\">\n",
              "    <button class=\"colab-df-convert\" onclick=\"convertToInteractive('df-c393a536-c244-402b-beb4-8fe13bbf1c65')\"\n",
              "            title=\"Convert this dataframe to an interactive table.\"\n",
              "            style=\"display:none;\">\n",
              "\n",
              "  <svg xmlns=\"http://www.w3.org/2000/svg\" height=\"24px\" viewBox=\"0 -960 960 960\">\n",
              "    <path d=\"M120-120v-720h720v720H120Zm60-500h600v-160H180v160Zm220 220h160v-160H400v160Zm0 220h160v-160H400v160ZM180-400h160v-160H180v160Zm440 0h160v-160H620v160ZM180-180h160v-160H180v160Zm440 0h160v-160H620v160Z\"/>\n",
              "  </svg>\n",
              "    </button>\n",
              "\n",
              "  <style>\n",
              "    .colab-df-container {\n",
              "      display:flex;\n",
              "      gap: 12px;\n",
              "    }\n",
              "\n",
              "    .colab-df-convert {\n",
              "      background-color: #E8F0FE;\n",
              "      border: none;\n",
              "      border-radius: 50%;\n",
              "      cursor: pointer;\n",
              "      display: none;\n",
              "      fill: #1967D2;\n",
              "      height: 32px;\n",
              "      padding: 0 0 0 0;\n",
              "      width: 32px;\n",
              "    }\n",
              "\n",
              "    .colab-df-convert:hover {\n",
              "      background-color: #E2EBFA;\n",
              "      box-shadow: 0px 1px 2px rgba(60, 64, 67, 0.3), 0px 1px 3px 1px rgba(60, 64, 67, 0.15);\n",
              "      fill: #174EA6;\n",
              "    }\n",
              "\n",
              "    .colab-df-buttons div {\n",
              "      margin-bottom: 4px;\n",
              "    }\n",
              "\n",
              "    [theme=dark] .colab-df-convert {\n",
              "      background-color: #3B4455;\n",
              "      fill: #D2E3FC;\n",
              "    }\n",
              "\n",
              "    [theme=dark] .colab-df-convert:hover {\n",
              "      background-color: #434B5C;\n",
              "      box-shadow: 0px 1px 3px 1px rgba(0, 0, 0, 0.15);\n",
              "      filter: drop-shadow(0px 1px 2px rgba(0, 0, 0, 0.3));\n",
              "      fill: #FFFFFF;\n",
              "    }\n",
              "  </style>\n",
              "\n",
              "    <script>\n",
              "      const buttonEl =\n",
              "        document.querySelector('#df-c393a536-c244-402b-beb4-8fe13bbf1c65 button.colab-df-convert');\n",
              "      buttonEl.style.display =\n",
              "        google.colab.kernel.accessAllowed ? 'block' : 'none';\n",
              "\n",
              "      async function convertToInteractive(key) {\n",
              "        const element = document.querySelector('#df-c393a536-c244-402b-beb4-8fe13bbf1c65');\n",
              "        const dataTable =\n",
              "          await google.colab.kernel.invokeFunction('convertToInteractive',\n",
              "                                                    [key], {});\n",
              "        if (!dataTable) return;\n",
              "\n",
              "        const docLinkHtml = 'Like what you see? Visit the ' +\n",
              "          '<a target=\"_blank\" href=https://colab.research.google.com/notebooks/data_table.ipynb>data table notebook</a>'\n",
              "          + ' to learn more about interactive tables.';\n",
              "        element.innerHTML = '';\n",
              "        dataTable['output_type'] = 'display_data';\n",
              "        await google.colab.output.renderOutput(dataTable, element);\n",
              "        const docLink = document.createElement('div');\n",
              "        docLink.innerHTML = docLinkHtml;\n",
              "        element.appendChild(docLink);\n",
              "      }\n",
              "    </script>\n",
              "  </div>\n",
              "\n",
              "\n",
              "<div id=\"df-2ff36fa4-e2fa-47c5-80ba-af4305aabefb\">\n",
              "  <button class=\"colab-df-quickchart\" onclick=\"quickchart('df-2ff36fa4-e2fa-47c5-80ba-af4305aabefb')\"\n",
              "            title=\"Suggest charts\"\n",
              "            style=\"display:none;\">\n",
              "\n",
              "<svg xmlns=\"http://www.w3.org/2000/svg\" height=\"24px\"viewBox=\"0 0 24 24\"\n",
              "     width=\"24px\">\n",
              "    <g>\n",
              "        <path d=\"M19 3H5c-1.1 0-2 .9-2 2v14c0 1.1.9 2 2 2h14c1.1 0 2-.9 2-2V5c0-1.1-.9-2-2-2zM9 17H7v-7h2v7zm4 0h-2V7h2v10zm4 0h-2v-4h2v4z\"/>\n",
              "    </g>\n",
              "</svg>\n",
              "  </button>\n",
              "\n",
              "<style>\n",
              "  .colab-df-quickchart {\n",
              "      --bg-color: #E8F0FE;\n",
              "      --fill-color: #1967D2;\n",
              "      --hover-bg-color: #E2EBFA;\n",
              "      --hover-fill-color: #174EA6;\n",
              "      --disabled-fill-color: #AAA;\n",
              "      --disabled-bg-color: #DDD;\n",
              "  }\n",
              "\n",
              "  [theme=dark] .colab-df-quickchart {\n",
              "      --bg-color: #3B4455;\n",
              "      --fill-color: #D2E3FC;\n",
              "      --hover-bg-color: #434B5C;\n",
              "      --hover-fill-color: #FFFFFF;\n",
              "      --disabled-bg-color: #3B4455;\n",
              "      --disabled-fill-color: #666;\n",
              "  }\n",
              "\n",
              "  .colab-df-quickchart {\n",
              "    background-color: var(--bg-color);\n",
              "    border: none;\n",
              "    border-radius: 50%;\n",
              "    cursor: pointer;\n",
              "    display: none;\n",
              "    fill: var(--fill-color);\n",
              "    height: 32px;\n",
              "    padding: 0;\n",
              "    width: 32px;\n",
              "  }\n",
              "\n",
              "  .colab-df-quickchart:hover {\n",
              "    background-color: var(--hover-bg-color);\n",
              "    box-shadow: 0 1px 2px rgba(60, 64, 67, 0.3), 0 1px 3px 1px rgba(60, 64, 67, 0.15);\n",
              "    fill: var(--button-hover-fill-color);\n",
              "  }\n",
              "\n",
              "  .colab-df-quickchart-complete:disabled,\n",
              "  .colab-df-quickchart-complete:disabled:hover {\n",
              "    background-color: var(--disabled-bg-color);\n",
              "    fill: var(--disabled-fill-color);\n",
              "    box-shadow: none;\n",
              "  }\n",
              "\n",
              "  .colab-df-spinner {\n",
              "    border: 2px solid var(--fill-color);\n",
              "    border-color: transparent;\n",
              "    border-bottom-color: var(--fill-color);\n",
              "    animation:\n",
              "      spin 1s steps(1) infinite;\n",
              "  }\n",
              "\n",
              "  @keyframes spin {\n",
              "    0% {\n",
              "      border-color: transparent;\n",
              "      border-bottom-color: var(--fill-color);\n",
              "      border-left-color: var(--fill-color);\n",
              "    }\n",
              "    20% {\n",
              "      border-color: transparent;\n",
              "      border-left-color: var(--fill-color);\n",
              "      border-top-color: var(--fill-color);\n",
              "    }\n",
              "    30% {\n",
              "      border-color: transparent;\n",
              "      border-left-color: var(--fill-color);\n",
              "      border-top-color: var(--fill-color);\n",
              "      border-right-color: var(--fill-color);\n",
              "    }\n",
              "    40% {\n",
              "      border-color: transparent;\n",
              "      border-right-color: var(--fill-color);\n",
              "      border-top-color: var(--fill-color);\n",
              "    }\n",
              "    60% {\n",
              "      border-color: transparent;\n",
              "      border-right-color: var(--fill-color);\n",
              "    }\n",
              "    80% {\n",
              "      border-color: transparent;\n",
              "      border-right-color: var(--fill-color);\n",
              "      border-bottom-color: var(--fill-color);\n",
              "    }\n",
              "    90% {\n",
              "      border-color: transparent;\n",
              "      border-bottom-color: var(--fill-color);\n",
              "    }\n",
              "  }\n",
              "</style>\n",
              "\n",
              "  <script>\n",
              "    async function quickchart(key) {\n",
              "      const quickchartButtonEl =\n",
              "        document.querySelector('#' + key + ' button');\n",
              "      quickchartButtonEl.disabled = true;  // To prevent multiple clicks.\n",
              "      quickchartButtonEl.classList.add('colab-df-spinner');\n",
              "      try {\n",
              "        const charts = await google.colab.kernel.invokeFunction(\n",
              "            'suggestCharts', [key], {});\n",
              "      } catch (error) {\n",
              "        console.error('Error during call to suggestCharts:', error);\n",
              "      }\n",
              "      quickchartButtonEl.classList.remove('colab-df-spinner');\n",
              "      quickchartButtonEl.classList.add('colab-df-quickchart-complete');\n",
              "    }\n",
              "    (() => {\n",
              "      let quickchartButtonEl =\n",
              "        document.querySelector('#df-2ff36fa4-e2fa-47c5-80ba-af4305aabefb button');\n",
              "      quickchartButtonEl.style.display =\n",
              "        google.colab.kernel.accessAllowed ? 'block' : 'none';\n",
              "    })();\n",
              "  </script>\n",
              "</div>\n",
              "\n",
              "  <div id=\"id_75ba2de2-6fde-4c8b-b72e-f399946e5a61\">\n",
              "    <style>\n",
              "      .colab-df-generate {\n",
              "        background-color: #E8F0FE;\n",
              "        border: none;\n",
              "        border-radius: 50%;\n",
              "        cursor: pointer;\n",
              "        display: none;\n",
              "        fill: #1967D2;\n",
              "        height: 32px;\n",
              "        padding: 0 0 0 0;\n",
              "        width: 32px;\n",
              "      }\n",
              "\n",
              "      .colab-df-generate:hover {\n",
              "        background-color: #E2EBFA;\n",
              "        box-shadow: 0px 1px 2px rgba(60, 64, 67, 0.3), 0px 1px 3px 1px rgba(60, 64, 67, 0.15);\n",
              "        fill: #174EA6;\n",
              "      }\n",
              "\n",
              "      [theme=dark] .colab-df-generate {\n",
              "        background-color: #3B4455;\n",
              "        fill: #D2E3FC;\n",
              "      }\n",
              "\n",
              "      [theme=dark] .colab-df-generate:hover {\n",
              "        background-color: #434B5C;\n",
              "        box-shadow: 0px 1px 3px 1px rgba(0, 0, 0, 0.15);\n",
              "        filter: drop-shadow(0px 1px 2px rgba(0, 0, 0, 0.3));\n",
              "        fill: #FFFFFF;\n",
              "      }\n",
              "    </style>\n",
              "    <button class=\"colab-df-generate\" onclick=\"generateWithVariable('data')\"\n",
              "            title=\"Generate code using this dataframe.\"\n",
              "            style=\"display:none;\">\n",
              "\n",
              "  <svg xmlns=\"http://www.w3.org/2000/svg\" height=\"24px\"viewBox=\"0 0 24 24\"\n",
              "       width=\"24px\">\n",
              "    <path d=\"M7,19H8.4L18.45,9,17,7.55,7,17.6ZM5,21V16.75L18.45,3.32a2,2,0,0,1,2.83,0l1.4,1.43a1.91,1.91,0,0,1,.58,1.4,1.91,1.91,0,0,1-.58,1.4L9.25,21ZM18.45,9,17,7.55Zm-12,3A5.31,5.31,0,0,0,4.9,8.1,5.31,5.31,0,0,0,1,6.5,5.31,5.31,0,0,0,4.9,4.9,5.31,5.31,0,0,0,6.5,1,5.31,5.31,0,0,0,8.1,4.9,5.31,5.31,0,0,0,12,6.5,5.46,5.46,0,0,0,6.5,12Z\"/>\n",
              "  </svg>\n",
              "    </button>\n",
              "    <script>\n",
              "      (() => {\n",
              "      const buttonEl =\n",
              "        document.querySelector('#id_75ba2de2-6fde-4c8b-b72e-f399946e5a61 button.colab-df-generate');\n",
              "      buttonEl.style.display =\n",
              "        google.colab.kernel.accessAllowed ? 'block' : 'none';\n",
              "\n",
              "      buttonEl.onclick = () => {\n",
              "        google.colab.notebook.generateWithVariable('data');\n",
              "      }\n",
              "      })();\n",
              "    </script>\n",
              "  </div>\n",
              "\n",
              "    </div>\n",
              "  </div>\n"
            ],
            "application/vnd.google.colaboratory.intrinsic+json": {
              "type": "dataframe",
              "variable_name": "data"
            }
          },
          "metadata": {},
          "execution_count": 19
        }
      ],
      "source": [
        "data"
      ]
    },
    {
      "cell_type": "code",
      "execution_count": null,
      "metadata": {
        "id": "ogOBCqRtXlmd"
      },
      "outputs": [],
      "source": [
        "data.drop([\"Magnetic Field Configuration\", \"Target Composition\",\"Unnamed: 0\"], axis=1, inplace=True)"
      ]
    },
    {
      "cell_type": "code",
      "execution_count": null,
      "metadata": {
        "id": "nuPyujn7XljH"
      },
      "outputs": [],
      "source": [
        "correlation_matrix = data.corr()"
      ]
    },
    {
      "cell_type": "markdown",
      "source": [
        "**VISUALIZATION**"
      ],
      "metadata": {
        "id": "w5s3a8MetgGv"
      }
    },
    {
      "cell_type": "code",
      "execution_count": null,
      "metadata": {
        "colab": {
          "base_uri": "https://localhost:8080/",
          "height": 565
        },
        "id": "rOG9ptAiXlgu",
        "outputId": "9f35f4fe-3536-483a-ffe0-aa417c13797e"
      },
      "outputs": [
        {
          "output_type": "display_data",
          "data": {
            "text/plain": [
              "<Figure size 500x600 with 2 Axes>"
            ],
            "image/png": "[encoded data removed]"
          },
          "metadata": {}
        }
      ],
      "source": [
        "target = 'Ignition'\n",
        "corr_values = data.corr(numeric_only=True)[target].drop(target)\n",
        "corr_df = corr_values.to_frame().sort_values(by=target, ascending=False)\n",
        "plt.figure(figsize=(5, 6))\n",
        "sns.heatmap(corr_df, annot=True, cmap='Spectral', fmt=\".2f\", linewidths=0.7, cbar=True)\n",
        "plt.title(f'Correlation of {target} with Other Features, ', fontsize=14, fontweight='bold', pad=20)\n",
        "plt.show()"
      ]
    },
    {
      "cell_type": "code",
      "execution_count": null,
      "metadata": {
        "colab": {
          "base_uri": "https://localhost:8080/",
          "height": 472
        },
        "id": "ewZy47imXlU-",
        "outputId": "b242da6a-c70c-47d7-c0e4-e9adc0e34249"
      },
      "outputs": [
        {
          "output_type": "display_data",
          "data": {
            "text/plain": [
              "<Figure size 640x480 with 1 Axes>"
            ],
            "image/png": "[encoded data removed]"
          },
          "metadata": {}
        }
      ],
      "source": [
        "# Check class distribution for the target variable\n",
        "sns.countplot(x='Ignition', data=data)\n",
        "plt.title('Class Distribution of Target Variable (Ignition)')\n",
        "plt.show()\n"
      ]
    },
    {
      "cell_type": "code",
      "execution_count": null,
      "metadata": {
        "id": "hDFe14EJWVq2"
      },
      "outputs": [],
      "source": [
        "scaler = StandardScaler()\n"
      ]
    },
    {
      "cell_type": "code",
      "execution_count": null,
      "metadata": {
        "id": "fRl64VXlFnbX"
      },
      "outputs": [],
      "source": [
        "X = data.drop(\"Ignition\", axis = 1)\n",
        "y = data[\"Ignition\"]"
      ]
    },
    {
      "cell_type": "code",
      "execution_count": null,
      "metadata": {
        "id": "i_TDhe-IVtM6"
      },
      "outputs": [],
      "source": [
        "X_train, X_test, y_train, y_test = train_test_split(X, y, test_size=0.2, random_state=42)"
      ]
    },
    {
      "cell_type": "code",
      "execution_count": null,
      "metadata": {
        "id": "a4X8h5cbV7Qb"
      },
      "outputs": [],
      "source": [
        "X_train = scaler.fit_transform(X_train)\n",
        "X_test = scaler.transform(X_test)"
      ]
    },
    {
      "cell_type": "markdown",
      "source": [
        "**Linear Regression from Scratch**"
      ],
      "metadata": {
        "id": "xgDCktbOtlIZ"
      }
    },
    {
      "cell_type": "code",
      "execution_count": null,
      "metadata": {
        "id": "gq2ctFY5V7NK"
      },
      "outputs": [],
      "source": [
        "# Logistic Regression from Scratch\n",
        "class LogisticRegressionScratch:\n",
        "    def __init__(self, learning_rate=0.01, iterations=1000):\n",
        "        self.learning_rate = learning_rate\n",
        "        self.iterations = iterations\n",
        "\n",
        "    def sigmoid(self, z):\n",
        "        return 1 / (1 + np.exp(-z))\n",
        "\n",
        "    def fit(self, X, y):\n",
        "        self.m, self.n = X.shape\n",
        "        self.weights = np.zeros(self.n)\n",
        "        self.bias = 0\n",
        "\n",
        "        for _ in range(self.iterations):\n",
        "            linear_model = np.dot(X, self.weights) + self.bias\n",
        "            y_predicted = self.sigmoid(linear_model)\n",
        "\n",
        "            dw = (1 / self.m) * np.dot(X.T, (y_predicted - y))\n",
        "            db = (1 / self.m) * np.sum(y_predicted - y)\n",
        "\n",
        "            self.weights -= self.learning_rate * dw\n",
        "            self.bias -= self.learning_rate * db\n",
        "\n",
        "    def predict(self, X):\n",
        "        linear_model = np.dot(X, self.weights) + self.bias\n",
        "        y_predicted = self.sigmoid(linear_model)\n",
        "        return [1 if i > 0.5 else 0 for i in y_predicted]"
      ]
    },
    {
      "cell_type": "code",
      "execution_count": null,
      "metadata": {
        "colab": {
          "base_uri": "https://localhost:8080/"
        },
        "id": "bGfOmcaoa_sH",
        "outputId": "0ffcafa8-becd-4a79-e649-eada1d27ca6e"
      },
      "outputs": [
        {
          "output_type": "stream",
          "name": "stdout",
          "text": [
            "Classification Report (Logistic Regression from Scratch):\n",
            "              precision    recall  f1-score   support\n",
            "\n",
            "           0       0.70      1.00      0.83     14046\n",
            "           1       1.00      0.00      0.00      5954\n",
            "\n",
            "    accuracy                           0.70     20000\n",
            "   macro avg       0.85      0.50      0.41     20000\n",
            "weighted avg       0.79      0.70      0.58     20000\n",
            "\n"
          ]
        }
      ],
      "source": [
        "lr_scratch = LogisticRegressionScratch()\n",
        "lr_scratch.fit(X_train, y_train)\n",
        "y_pred_scratch = lr_scratch.predict(X_test)\n",
        "print(\"Classification Report (Logistic Regression from Scratch):\")\n",
        "print(classification_report(y_test, y_pred_scratch, zero_division=1))"
      ]
    },
    {
      "cell_type": "code",
      "source": [
        "print(\"\\nConfusion Matrix:\")\n",
        "print(confusion_matrix(y_test, y_pred_scratch))"
      ],
      "metadata": {
        "colab": {
          "base_uri": "https://localhost:8080/"
        },
        "id": "RdmaQjk8vA61",
        "outputId": "3baa8a5e-da3f-4ca8-f54f-16fdc2ce39c8"
      },
      "execution_count": null,
      "outputs": [
        {
          "output_type": "stream",
          "name": "stdout",
          "text": [
            "\n",
            "Confusion Matrix:\n",
            "[[14046     0]\n",
            " [ 5954     0]]\n"
          ]
        }
      ]
    },
    {
      "cell_type": "markdown",
      "source": [
        "**Two Models for Regression**"
      ],
      "metadata": {
        "id": "vO3rEQWzt2kW"
      }
    },
    {
      "cell_type": "markdown",
      "source": [
        "**Model- 1 Logistic Regression Using Scikit-learn**"
      ],
      "metadata": {
        "id": "pWDlooJQt_is"
      }
    },
    {
      "cell_type": "code",
      "execution_count": null,
      "metadata": {
        "colab": {
          "base_uri": "https://localhost:8080/"
        },
        "id": "jB65xFKZbDZz",
        "outputId": "62001ffb-ee66-414a-856b-49e8d0db2eaa"
      },
      "outputs": [
        {
          "output_type": "stream",
          "name": "stdout",
          "text": [
            "Classification Report (Logistic Regression - scikit-learn):\n",
            "              precision    recall  f1-score   support\n",
            "\n",
            "           0       0.70      1.00      0.83     14046\n",
            "           1       1.00      0.00      0.00      5954\n",
            "\n",
            "    accuracy                           0.70     20000\n",
            "   macro avg       0.85      0.50      0.41     20000\n",
            "weighted avg       0.79      0.70      0.58     20000\n",
            "\n"
          ]
        }
      ],
      "source": [
        "# Logistic Regression using scikit-learn\n",
        "lr_model = LogisticRegression()\n",
        "lr_model.fit(X_train, y_train)\n",
        "y_pred_lr = lr_model.predict(X_test)\n",
        "print(\"Classification Report (Logistic Regression - scikit-learn):\")\n",
        "print(classification_report(y_test, y_pred_lr, zero_division=1))"
      ]
    },
    {
      "cell_type": "code",
      "source": [
        "print(\"\\nConfusion Matrix:\")\n",
        "print(confusion_matrix(y_test, y_pred_lr))"
      ],
      "metadata": {
        "colab": {
          "base_uri": "https://localhost:8080/"
        },
        "id": "AjhDLcrns7it",
        "outputId": "d7264741-f6b9-4133-f0c5-0e5ad84bb247"
      },
      "execution_count": null,
      "outputs": [
        {
          "output_type": "stream",
          "name": "stdout",
          "text": [
            "\n",
            "Confusion Matrix:\n",
            "[[14046     0]\n",
            " [ 5954     0]]\n"
          ]
        }
      ]
    },
    {
      "cell_type": "markdown",
      "source": [
        "**Model- 2 Random Forest Classifier**"
      ],
      "metadata": {
        "id": "BKD0jgo-uIoZ"
      }
    },
    {
      "cell_type": "code",
      "execution_count": null,
      "metadata": {
        "colab": {
          "base_uri": "https://localhost:8080/"
        },
        "id": "KPmV1RRvbDWd",
        "outputId": "2d1851b6-d512-4fb2-cf2a-1220e2675b76"
      },
      "outputs": [
        {
          "output_type": "stream",
          "name": "stdout",
          "text": [
            "Classification Report (Random Forest):\n",
            "              precision    recall  f1-score   support\n",
            "\n",
            "           0       0.70      1.00      0.82     14046\n",
            "           1       0.24      0.00      0.00      5954\n",
            "\n",
            "    accuracy                           0.70     20000\n",
            "   macro avg       0.47      0.50      0.41     20000\n",
            "weighted avg       0.57      0.70      0.58     20000\n",
            "\n"
          ]
        }
      ],
      "source": [
        "# Random Forest Classifier\n",
        "rf_model = RandomForestClassifier(random_state=42)\n",
        "rf_model.fit(X_train, y_train)\n",
        "y_pred_rf = rf_model.predict(X_test)\n",
        "print(\"Classification Report (Random Forest):\")\n",
        "print(classification_report(y_test, y_pred_rf))"
      ]
    },
    {
      "cell_type": "code",
      "source": [
        "print(\"\\nConfusion Matrix:\")\n",
        "print(confusion_matrix(y_test, y_pred_rf))"
      ],
      "metadata": {
        "colab": {
          "base_uri": "https://localhost:8080/"
        },
        "id": "Ud8BzyZ4veNm",
        "outputId": "f484ac11-902a-47d5-89d9-a3af124f2203"
      },
      "execution_count": null,
      "outputs": [
        {
          "output_type": "stream",
          "name": "stdout",
          "text": [
            "\n",
            "Confusion Matrix:\n",
            "[[14018    28]\n",
            " [ 5945     9]]\n"
          ]
        }
      ]
    },
    {
      "cell_type": "markdown",
      "source": [
        "**Compare Models**"
      ],
      "metadata": {
        "id": "tzpgN1AEuVTU"
      }
    },
    {
      "cell_type": "code",
      "execution_count": null,
      "metadata": {
        "colab": {
          "base_uri": "https://localhost:8080/"
        },
        "id": "dJRldg3wF-hE",
        "outputId": "58092adf-7514-4b3b-99c1-8b0e7851dd02"
      },
      "outputs": [
        {
          "output_type": "stream",
          "name": "stdout",
          "text": [
            "Logistic Regression Accuracy: 0.7023\n",
            "Random Forest Accuracy: 0.70135\n"
          ]
        }
      ],
      "source": [
        "# Compare models\n",
        "lr_accuracy = accuracy_score(y_test, y_pred_lr)\n",
        "rf_accuracy = accuracy_score(y_test, y_pred_rf)\n",
        "print(f\"Logistic Regression Accuracy: {lr_accuracy}\")\n",
        "print(f\"Random Forest Accuracy: {rf_accuracy}\")"
      ]
    },
    {
      "cell_type": "markdown",
      "source": [
        "**Which Model Performed Better?**"
      ],
      "metadata": {
        "id": "HtCOaA45uZa2"
      }
    },
    {
      "cell_type": "code",
      "execution_count": null,
      "metadata": {
        "id": "SXqjcw4Mdp83",
        "colab": {
          "base_uri": "https://localhost:8080/"
        },
        "outputId": "ba424a29-7a0a-49ab-f6e2-31e155103a35"
      },
      "outputs": [
        {
          "output_type": "stream",
          "name": "stdout",
          "text": [
            "Logistic Regression performs better.\n"
          ]
        }
      ],
      "source": [
        "if lr_accuracy > rf_accuracy:\n",
        "    print(\"Logistic Regression performs better.\")\n",
        "elif rf_accuracy > lr_accuracy:\n",
        "    print(\"Random Forest performs better.\")\n",
        "else:\n",
        "    print(\"Both models perform equally well.\")"
      ]
    },
    {
      "cell_type": "markdown",
      "source": [
        "**Hyper-parameter Optimizations**"
      ],
      "metadata": {
        "id": "SRZSn71UuiIi"
      }
    },
    {
      "cell_type": "code",
      "source": [
        "grid_lr = GridSearchCV(LogisticRegression(random_state=4, max_iter=1000), param_grid={'C': [0.001, 0.01, 0.1, 1, 10, 100, 1000]}, cv=5, scoring='accuracy')\n",
        "grid_lr.fit(X_train, y_train)\n",
        "print(\"Best Hyperparameters for Logistic Regression:\", grid_lr.best_params_)"
      ],
      "metadata": {
        "colab": {
          "base_uri": "https://localhost:8080/"
        },
        "id": "Z7rOM2_3m3Bo",
        "outputId": "b72cedec-f581-41dc-cb22-4ce1dbf65b26"
      },
      "execution_count": 48,
      "outputs": [
        {
          "output_type": "stream",
          "name": "stdout",
          "text": [
            "Best Hyperparameters for Logistic Regression: {'C': 0.001}\n"
          ]
        }
      ]
    },
    {
      "cell_type": "code",
      "execution_count": null,
      "metadata": {
        "colab": {
          "base_uri": "https://localhost:8080/"
        },
        "id": "14GSNjiUGDm0",
        "outputId": "53165426-5197-46eb-9e3c-1e242420e946"
      },
      "outputs": [
        {
          "output_type": "stream",
          "name": "stdout",
          "text": [
            "Best Hyperparameters for Random Forest: {'max_depth': 10, 'n_estimators': 50}\n"
          ]
        }
      ],
      "source": [
        "# Hyperparameter Optimization for Random Forest\n",
        "param_grid_rf = {'n_estimators': [10, 50, 100], 'max_depth': [None, 10, 20, 30]}\n",
        "grid_rf = GridSearchCV(RandomForestClassifier(random_state=42), param_grid_rf, cv=5, scoring='accuracy')\n",
        "grid_rf.fit(X_train, y_train)\n",
        "print(\"Best Hyperparameters for Random Forest:\", grid_rf.best_params_)"
      ]
    },
    {
      "cell_type": "markdown",
      "source": [
        "**Feature Selection**"
      ],
      "metadata": {
        "id": "Y0Cgu1WBwOrN"
      }
    },
    {
      "cell_type": "code",
      "execution_count": null,
      "metadata": {
        "colab": {
          "base_uri": "https://localhost:8080/"
        },
        "id": "LzqgG1c1GFyP",
        "outputId": "35b6cc15-670a-49d7-fb17-f736d14f1193"
      },
      "outputs": [
        {
          "output_type": "stream",
          "name": "stdout",
          "text": [
            "Selected Features: Index(['Leakage', 'Magnetic Field Strength', 'Fuel Density', 'Temperature',\n",
            "       'Confinement Time', 'Power Output', 'Pressure', 'Neutron Yield',\n",
            "       'reversed field pinch', 'deuterium'],\n",
            "      dtype='object')\n"
          ]
        }
      ],
      "source": [
        "# Feature Selection\n",
        "selector = SelectKBest(score_func=f_classif, k=10)\n",
        "X_train_selected = selector.fit_transform(X_train, y_train)\n",
        "X_test_selected = selector.transform(X_test)\n",
        "selected_features = X.columns[selector.get_support()]\n",
        "print(\"Selected Features:\", selected_features)"
      ]
    },
    {
      "cell_type": "markdown",
      "source": [
        "**Final Model**"
      ],
      "metadata": {
        "id": "dzOvdifGwTL8"
      }
    },
    {
      "cell_type": "code",
      "execution_count": 49,
      "metadata": {
        "id": "wBtmapOZGIBv",
        "colab": {
          "base_uri": "https://localhost:8080/"
        },
        "outputId": "e67a54b7-956f-40ad-885b-8fe6a3ba4876"
      },
      "outputs": [
        {
          "output_type": "stream",
          "name": "stdout",
          "text": [
            "Final Logistic Regression Model Accuracy: 0.7023\n"
          ]
        }
      ],
      "source": [
        "# Import LogisticRegression from sklearn.linear_model\n",
        "from sklearn.linear_model import LogisticRegression\n",
        "\n",
        "final_lr_model = LogisticRegression(**grid_lr.best_params_, random_state=42)\n",
        "final_lr_model.fit(X_train_selected, y_train)\n",
        "y_pred_final_lr = final_lr_model.predict(X_test_selected)\n",
        "final_lr_accuracy = accuracy_score(y_test, y_pred_final_lr)\n",
        "\n",
        "print(\"Final Logistic Regression Model Accuracy:\", final_lr_accuracy)"
      ]
    },
    {
      "cell_type": "code",
      "source": [
        "print(\"\\nConfusion Matrix:\")\n",
        "print(confusion_matrix(y_test, y_pred_final_lr))"
      ],
      "metadata": {
        "colab": {
          "base_uri": "https://localhost:8080/"
        },
        "id": "drP2ZF48xsCk",
        "outputId": "977ea703-e247-4bfe-ad7c-fb402c4a45ae"
      },
      "execution_count": 50,
      "outputs": [
        {
          "output_type": "stream",
          "name": "stdout",
          "text": [
            "\n",
            "Confusion Matrix:\n",
            "[[14046     0]\n",
            " [ 5954     0]]\n"
          ]
        }
      ]
    },
    {
      "cell_type": "code",
      "source": [
        "plt.figure(figsize=(6,5))\n",
        "sns.heatmap(cm, annot=True, fmt='d', cmap='YlGnBu')\n",
        "\n",
        "plt.title('Confusion Matrix')\n",
        "plt.xlabel('Predicted Labels')\n",
        "plt.ylabel('True Labels')\n",
        "plt.show()"
      ],
      "metadata": {
        "colab": {
          "base_uri": "https://localhost:8080/",
          "height": 501
        },
        "id": "y0RbKjKnnQi4",
        "outputId": "9982edb2-07e6-4a0b-81c8-1f6ec3f292e1"
      },
      "execution_count": 57,
      "outputs": [
        {
          "output_type": "display_data",
          "data": {
            "text/plain": [
              "<Figure size 600x500 with 2 Axes>"
            ],
            "image/png": "[encoded data removed]"
          },
          "metadata": {}
        }
      ]
    },
    {
      "cell_type": "markdown",
      "source": [
        "**Did the Model Performance Improved?**"
      ],
      "metadata": {
        "id": "niq7Zd9_waqW"
      }
    },
    {
      "cell_type": "code",
      "source": [
        "# Print performance improvement comparison\n",
        "if final_lr_accuracy > lr_accuracy:\n",
        "    print(\"The final model improved performance compared to the original Logistic Regression model.\")\n",
        "elif final_lr_accuracy == lr_accuracy:\n",
        "    print(\"The final model performance is the same as the original Logistic Regression model.\")\n",
        "else:\n",
        "    print(\"The final model did not improve performance compared to the original Logistic Regression model.\")"
      ],
      "metadata": {
        "colab": {
          "base_uri": "https://localhost:8080/"
        },
        "id": "mOcV8ZRbwWot",
        "outputId": "6d0cba58-6708-4a99-f62a-dbcda1690f34"
      },
      "execution_count": 51,
      "outputs": [
        {
          "output_type": "stream",
          "name": "stdout",
          "text": [
            "The final model performance is the same as the original Logistic Regression model.\n"
          ]
        }
      ]
    }
  ],
  "metadata": {
    "colab": {
      "provenance": []
    },
    "kernelspec": {
      "display_name": "Python 3",
      "name": "python3"
    },
    "language_info": {
      "name": "python"
    }
  },
  "nbformat": 4,
  "nbformat_minor": 0
}