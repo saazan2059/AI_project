{
  "nbformat": 4,
  "nbformat_minor": 0,
  "metadata": {
    "colab": {
      "provenance": []
    },
    "kernelspec": {
      "name": "python3",
      "display_name": "Python 3"
    },
    "language_info": {
      "name": "python"
    }
  },
  "cells": [
    {
      "cell_type": "markdown",
      "source": [
        "3.1 Array Introduction:\n",
        "1. Importing Numpy:\n",
        "Sample Code from Slide - 14 - Importing Numpy and Array Type"
      ],
      "metadata": {
        "id": "yVfAwO1kAL1e"
      }
    },
    {
      "cell_type": "code",
      "source": [
        "import numpy as np\n",
        "# Create and display zero, one, and n-dimensional arrays\n",
        "zero_dim_array = np.array(5)\n",
        "one_dim_array = np.array([1, 2, 3])\n",
        "n_dim_array = np.array([[1, 2], [3, 4]])\n",
        "for arr in [zero_dim_array, one_dim_array, n_dim_array]:\n",
        "  print(f\"Array:\\n{arr}\\nDimension: {arr.ndim}\\nData type: {arr.dtype}\\n\")\n"
      ],
      "metadata": {
        "colab": {
          "base_uri": "https://localhost:8080/"
        },
        "id": "pWRod9HMX6DO",
        "outputId": "8c056f22-de2d-4a9a-f468-9077f0b61507"
      },
      "execution_count": null,
      "outputs": [
        {
          "output_type": "stream",
          "name": "stdout",
          "text": [
            "Array:\n",
            "5\n",
            "Dimension: 0\n",
            "Data type: int64\n",
            "\n",
            "Array:\n",
            "[1 2 3]\n",
            "Dimension: 1\n",
            "Data type: int64\n",
            "\n",
            "Array:\n",
            "[[1 2]\n",
            " [3 4]]\n",
            "Dimension: 2\n",
            "Data type: int64\n",
            "\n"
          ]
        }
      ]
    },
    {
      "cell_type": "markdown",
      "source": [
        "2. Array Dimensions: Shape and Resahpe of Array:\n",
        "Sample Code from Slide - 16 - Shape of an Array.\n"
      ],
      "metadata": {
        "id": "jT0-7m1UZdvc"
      }
    },
    {
      "cell_type": "code",
      "source": [
        "# Create arrays of different dimensions\n",
        "array_0d = np.array(5)\n",
        "array_1d = np.array([1, 2, 3, 4, 5])\n",
        "array_2d = np.array([[1, 2, 3], [4, 5, 6]])\n",
        "array_3d = np.array([[[1, 2], [3, 4]], [[5, 6], [7, 8]]])\n",
        "# Print arrays with shapes\n",
        "for i, arr in enumerate([array_0d, array_1d, array_2d, array_3d]):\n",
        "  print(f\"{i}D Array:\\n{arr}\\nShape: {arr.shape}\\n\")\n"
      ],
      "metadata": {
        "colab": {
          "base_uri": "https://localhost:8080/"
        },
        "id": "Ih-AOBPLZiWG",
        "outputId": "a0cdd3b4-4e4d-4329-e3a6-093700f017a0"
      },
      "execution_count": null,
      "outputs": [
        {
          "output_type": "stream",
          "name": "stdout",
          "text": [
            "0D Array:\n",
            "5\n",
            "Shape: ()\n",
            "\n",
            "1D Array:\n",
            "[1 2 3 4 5]\n",
            "Shape: (5,)\n",
            "\n",
            "2D Array:\n",
            "[[1 2 3]\n",
            " [4 5 6]]\n",
            "Shape: (2, 3)\n",
            "\n",
            "3D Array:\n",
            "[[[1 2]\n",
            "  [3 4]]\n",
            "\n",
            " [[5 6]\n",
            "  [7 8]]]\n",
            "Shape: (2, 2, 2)\n",
            "\n"
          ]
        }
      ]
    },
    {
      "cell_type": "markdown",
      "source": [
        "Sample Code from Slide - 17 - Reshaping an Array.\n"
      ],
      "metadata": {
        "id": "IPMeXE-tayuX"
      }
    },
    {
      "cell_type": "code",
      "source": [
        "import numpy as np\n",
        "array = np.array([[1, 2, 3], [4, 5, 6]]) # Shape (2, 3)\n",
        "reshaped_array = array.reshape(3, 2) # Reshape to (3, 2), keeping 6 elements\n",
        "print(\"Original Shape:\", array.shape, \"\\nReshaped Shape:\", reshaped_array.shape)"
      ],
      "metadata": {
        "colab": {
          "base_uri": "https://localhost:8080/"
        },
        "id": "6KrpmKx-a2pD",
        "outputId": "092e3582-d439-4bb8-9b20-9fd7efe3750f"
      },
      "execution_count": null,
      "outputs": [
        {
          "output_type": "stream",
          "name": "stdout",
          "text": [
            "Original Shape: (2, 3) \n",
            "Reshaped Shape: (3, 2)\n"
          ]
        }
      ]
    },
    {
      "cell_type": "markdown",
      "source": [
        "3.2 Array Creation:\n",
        "1. Using In - Built Function:\n",
        "Sample Code from Slide - 18 - Arrays with evenly Spaced values - arange"
      ],
      "metadata": {
        "id": "ReBg7QTVdbu8"
      }
    },
    {
      "cell_type": "code",
      "source": [
        "import numpy as np\n",
        "a = np.arange(1, 10)\n",
        "print(a)\n",
        "x = range(1, 10)\n",
        "print(x) # x is an iterator\n",
        "print(list(x))\n",
        "# further arange examples:\n",
        "x = np.arange(10.4)\n",
        "print(x)\n",
        "x = np.arange(0.5, 10.4, 0.8)\n",
        "print(x)\n"
      ],
      "metadata": {
        "colab": {
          "base_uri": "https://localhost:8080/"
        },
        "id": "YQa-qCyhdck_",
        "outputId": "886c4da0-98e7-4cd4-b5f9-c74142417f9c"
      },
      "execution_count": null,
      "outputs": [
        {
          "output_type": "stream",
          "name": "stdout",
          "text": [
            "[1 2 3 4 5 6 7 8 9]\n",
            "range(1, 10)\n",
            "[1, 2, 3, 4, 5, 6, 7, 8, 9]\n",
            "[ 0.  1.  2.  3.  4.  5.  6.  7.  8.  9. 10.]\n",
            "[ 0.5  1.3  2.1  2.9  3.7  4.5  5.3  6.1  6.9  7.7  8.5  9.3 10.1]\n"
          ]
        }
      ]
    },
    {
      "cell_type": "markdown",
      "source": [
        "Sample Code from Slide - 19 - Arrays with evenly Spaced values - linspace.\n"
      ],
      "metadata": {
        "id": "YCn8ezzBdvDE"
      }
    },
    {
      "cell_type": "code",
      "source": [
        "import numpy as np\n",
        "# 50 values between 1 and 10:\n",
        "print(np.linspace(1, 10))\n",
        "# 7 values between 1 and 10:\n",
        "print(np.linspace(1, 10, 7))\n",
        "# excluding the endpoint:\n",
        "print(np.linspace(1, 10, 7, endpoint=False))\n"
      ],
      "metadata": {
        "colab": {
          "base_uri": "https://localhost:8080/"
        },
        "id": "C6iLd1zpdvtH",
        "outputId": "1d1fd453-3bf9-4815-e69a-97e2fe17f094"
      },
      "execution_count": null,
      "outputs": [
        {
          "output_type": "stream",
          "name": "stdout",
          "text": [
            "[ 1.          1.18367347  1.36734694  1.55102041  1.73469388  1.91836735\n",
            "  2.10204082  2.28571429  2.46938776  2.65306122  2.83673469  3.02040816\n",
            "  3.20408163  3.3877551   3.57142857  3.75510204  3.93877551  4.12244898\n",
            "  4.30612245  4.48979592  4.67346939  4.85714286  5.04081633  5.2244898\n",
            "  5.40816327  5.59183673  5.7755102   5.95918367  6.14285714  6.32653061\n",
            "  6.51020408  6.69387755  6.87755102  7.06122449  7.24489796  7.42857143\n",
            "  7.6122449   7.79591837  7.97959184  8.16326531  8.34693878  8.53061224\n",
            "  8.71428571  8.89795918  9.08163265  9.26530612  9.44897959  9.63265306\n",
            "  9.81632653 10.        ]\n",
            "[ 1.   2.5  4.   5.5  7.   8.5 10. ]\n",
            "[1.         2.28571429 3.57142857 4.85714286 6.14285714 7.42857143\n",
            " 8.71428571]\n"
          ]
        }
      ]
    },
    {
      "cell_type": "markdown",
      "source": [
        "2. Initializing Arrays with Ones, Zeros and Empty:\n",
        "Sample Code form slide - 20 - Initializing an Array."
      ],
      "metadata": {
        "id": "tQQK6aGLeEVL"
      }
    },
    {
      "cell_type": "code",
      "source": [
        "import numpy as np\n",
        "\n",
        "# Create arrays of specified shapes\n",
        "ones_array = np.ones((2, 3))  # Shape: (2, 3)\n",
        "zeros_array = np.zeros((3, 2))  # Shape: (3, 2)\n",
        "empty_array = np.empty((2, 2))  # Shape: (2, 2)\n",
        "identity_matrix = np.eye(3)  # Shape: (3, 3)\n",
        "\n",
        "# Print arrays with proper formatting for newline\n",
        "print(ones_array, zeros_array, empty_array, identity_matrix, sep='\\n\\n')\n"
      ],
      "metadata": {
        "colab": {
          "base_uri": "https://localhost:8080/"
        },
        "id": "ca7fej5pedGh",
        "outputId": "4b0fc2f8-1fe8-408c-8010-e38e089cd59f"
      },
      "execution_count": null,
      "outputs": [
        {
          "output_type": "stream",
          "name": "stdout",
          "text": [
            "[[1. 1. 1.]\n",
            " [1. 1. 1.]]\n",
            "\n",
            "[[0. 0.]\n",
            " [0. 0.]\n",
            " [0. 0.]]\n",
            "\n",
            "[[4.87414994e-310 0.00000000e+000]\n",
            " [2.05833592e-312 6.63743532e-310]]\n",
            "\n",
            "[[1. 0. 0.]\n",
            " [0. 1. 0.]\n",
            " [0. 0. 1.]]\n"
          ]
        }
      ]
    },
    {
      "cell_type": "markdown",
      "source": [
        "3. By Manipulating Existing Array:\n",
        "3.1 Using np.array:\n",
        "Sample Code form slide - 21 - Converting list to array using np.array."
      ],
      "metadata": {
        "id": "VGSj2tHsgBGD"
      }
    },
    {
      "cell_type": "code",
      "source": [
        "import numpy as np\n",
        "array_from_list = np.array([1, 2, 3]) # [1 2 3]\n",
        "array_from_tuple = np.array((4, 5, 6)) # [4 5 6]\n",
        "array_from_nested_list = np.array([[1, 2, 3], [4, 5, 6]]) # [[1 2 3] [4 5 6]]\n",
        "print(array_from_list, array_from_tuple, array_from_nested_list, sep='\\n\\n')\n"
      ],
      "metadata": {
        "colab": {
          "base_uri": "https://localhost:8080/"
        },
        "id": "6bV6Rfy7gBqZ",
        "outputId": "b8792bf0-a5a4-4379-e911-4ee3cc73f0fc"
      },
      "execution_count": null,
      "outputs": [
        {
          "output_type": "stream",
          "name": "stdout",
          "text": [
            "[1 2 3]\n",
            "\n",
            "[4 5 6]\n",
            "\n",
            "[[1 2 3]\n",
            " [4 5 6]]\n"
          ]
        }
      ]
    },
    {
      "cell_type": "markdown",
      "source": [
        "3.2 Using shape of an existing array:\n",
        "Sample Code form slide - 22 - From shape of an existing array."
      ],
      "metadata": {
        "id": "gFWNTZg0ghe_"
      }
    },
    {
      "cell_type": "code",
      "source": [
        "import numpy as np\n",
        "# Existing Array of Shape:(2,3)\n",
        "arr = np.array([[1, 2, 3], [4, 5, 6]])\n",
        "# Creating Array with Shape of existing array:\n",
        "zeros, ones, empty = np.zeros(arr.shape), np.ones(arr.shape), np.empty(arr.shape) # Shape: (2,3)\n",
        "print(arr, zeros, ones, empty, sep='\\n\\n')"
      ],
      "metadata": {
        "colab": {
          "base_uri": "https://localhost:8080/"
        },
        "id": "hmosfXRvgiMy",
        "outputId": "be9c7ecf-0c75-49a1-d147-a4ed6b820cc6"
      },
      "execution_count": null,
      "outputs": [
        {
          "output_type": "stream",
          "name": "stdout",
          "text": [
            "[[1 2 3]\n",
            " [4 5 6]]\n",
            "\n",
            "[[0. 0. 0.]\n",
            " [0. 0. 0.]]\n",
            "\n",
            "[[1. 1. 1.]\n",
            " [1. 1. 1.]]\n",
            "\n",
            "[[4.87414985e-310 0.00000000e+000 6.63743588e-310]\n",
            " [6.63743588e-310 6.63743588e-310 6.63743588e-310]]\n"
          ]
        }
      ]
    },
    {
      "cell_type": "markdown",
      "source": [
        "3.3 With Math, Copying or Slicing and Array:\n",
        "Sample Code form slide - 23 - Manipulatiing existing array"
      ],
      "metadata": {
        "id": "dg0tyIlsiQLj"
      }
    },
    {
      "cell_type": "code",
      "source": [
        "import numpy as np\n",
        "array = np.array([1, 2, 3])\n",
        "# Multiplies each element by 2, result: [2, 4, 6]\n",
        "new_array = array * 2\n",
        "# Creates a new array with the same elements\n",
        "copied_array = np.copy(array)\n",
        "# Slices elements from index 1 to 3, result:[2]\n",
        "sliced_array = array[1:2]\n"
      ],
      "metadata": {
        "id": "USI-p4PwiQwO"
      },
      "execution_count": null,
      "outputs": []
    },
    {
      "cell_type": "markdown",
      "source": [
        "Sample Code form slide - 26 - With Concatenating Operation.\n"
      ],
      "metadata": {
        "id": "-JcaegnoiaWQ"
      }
    },
    {
      "cell_type": "code",
      "source": [
        "import numpy as np\n",
        "arr1 = np.array([[1, 2], [3, 4]]) # Shape: (2, 2)\n",
        "arr2 = np.array([[5, 6], [7, 8]]) # Shape: (2, 2)\n",
        "concat_axis0 = np.concatenate((arr1, arr2), axis=0)\n",
        "# Concatenate along axis 0 (vertical) Shape: (4, 2)\n",
        "concat_axis1 = np.concatenate((arr1, arr2), axis=1)\n",
        "# Concatenate along axis 1 (horizontal) Shape: (2, 4)\n",
        "print(concat_axis0, concat_axis1, sep='\\n\\n')\n"
      ],
      "metadata": {
        "colab": {
          "base_uri": "https://localhost:8080/"
        },
        "id": "xCiKcoBMid7I",
        "outputId": "bb4bec70-f42e-4eba-f554-38192724a825"
      },
      "execution_count": null,
      "outputs": [
        {
          "output_type": "stream",
          "name": "stdout",
          "text": [
            "[[1 2]\n",
            " [3 4]\n",
            " [5 6]\n",
            " [7 8]]\n",
            "\n",
            "[[1 2 5 6]\n",
            " [3 4 7 8]]\n"
          ]
        }
      ]
    },
    {
      "cell_type": "markdown",
      "source": [
        "3.4 Array: Indexing and Slicing:\n",
        "Sample Code form slide - 34 - Sample Code for Indexing and Slicing"
      ],
      "metadata": {
        "id": "VPQahN-Um86v"
      }
    },
    {
      "cell_type": "code",
      "source": [
        "import numpy as np\n",
        "# Arrays\n",
        "arr1d = np.array([0, 1, 2, 3, 4, 5])\n",
        "arr2d = np.array([[0, 1, 2], [3, 4, 5], [6, 7, 8]])\n",
        "arr3d = np.array([[[0, 1], [2, 3]], [[4, 5], [6, 7]], [[8, 9], [10, 11]]])\n",
        "# Slicing examples\n",
        "print(\"Basic:\", arr1d[1:4], arr2d[1:3, 0:2], arr3d[1:2, 0:2, 1:2])\n",
        "# Output Basic: arr1d:[1 2 3] arr2d:[[3 4] [6 7]] arr3d:[[[5] [7]]]\n",
        "print(\"Step:\", arr1d[1:5:2], arr2d[::2, 1::2], arr3d[::2, ::2, 1::2])\n",
        "# Output: Step: [1 3] [[1] [7]] [[[1] [9]]]\n"
      ],
      "metadata": {
        "colab": {
          "base_uri": "https://localhost:8080/"
        },
        "id": "brz9CYG_nIMG",
        "outputId": "99b6a2b6-04fb-4594-859b-965c7638d494"
      },
      "execution_count": null,
      "outputs": [
        {
          "output_type": "stream",
          "name": "stdout",
          "text": [
            "Basic: [1 2 3] [[3 4]\n",
            " [6 7]] [[[5]\n",
            "  [7]]]\n",
            "Step: [1 3] [[1]\n",
            " [7]] [[[1]]\n",
            "\n",
            " [[9]]]\n"
          ]
        }
      ]
    },
    {
      "cell_type": "markdown",
      "source": [
        "3.3 Array Mathematics:\n",
        "1. Elementary Mathematical Operation with universal functions.\n",
        "Sample Code form slide - 37 - Intriduction to ”ufuncs”."
      ],
      "metadata": {
        "id": "X7ah1HtonWVj"
      }
    },
    {
      "cell_type": "code",
      "source": [
        "import numpy as np\n",
        "arr1 = np.array([1, 2, 3])\n",
        "arr2 = np.array([4, 5, 6])\n",
        "print(\"Add:\", np.add(arr1, arr2))\n",
        "print(\"Subtract:\", np.subtract(arr1, arr2))\n",
        "print(\"Divide:\", np.divide(arr1, arr2))\n",
        "print(\"Multiply:\", np.multiply(arr1, arr2))\n",
        "print(\"Power:\", np.power(arr1, arr2))\n",
        "print(\"Exp:\", np.exp(arr1))"
      ],
      "metadata": {
        "colab": {
          "base_uri": "https://localhost:8080/"
        },
        "id": "xn8S4zcknXeL",
        "outputId": "dc7e98a2-2c66-44c1-c9e7-9d7bdee530f1"
      },
      "execution_count": null,
      "outputs": [
        {
          "output_type": "stream",
          "name": "stdout",
          "text": [
            "Add: [5 7 9]\n",
            "Subtract: [-3 -3 -3]\n",
            "Divide: [0.25 0.4  0.5 ]\n",
            "Multiply: [ 4 10 18]\n",
            "Power: [  1  32 729]\n",
            "Exp: [ 2.71828183  7.3890561  20.08553692]\n"
          ]
        }
      ]
    },
    {
      "cell_type": "markdown",
      "source": [
        "2. Matrix Multiplications.\n",
        "Sample Code form slide - 44 - Using ”np.dot”."
      ],
      "metadata": {
        "id": "MovK5b53oByt"
      }
    },
    {
      "cell_type": "code",
      "source": [
        "import numpy as np\n",
        "# Define two matrices\n",
        "A = np.array([[1, 2, 3], [4, 5, 6]])\n",
        "B = np.array([[7, 8], [9, 10], [11, 12]])\n",
        "# Matrix multiplication using np.dot\n",
        "result_dot = np.dot(A, B)\n",
        "print(\"Result with np.dot:\\n\", result_dot) # Output shape: (2, 2)"
      ],
      "metadata": {
        "colab": {
          "base_uri": "https://localhost:8080/"
        },
        "id": "ZNWV2lyroIxQ",
        "outputId": "2c9ffe53-61df-42c2-a7f6-a7a428b59ecd"
      },
      "execution_count": null,
      "outputs": [
        {
          "output_type": "stream",
          "name": "stdout",
          "text": [
            "Result with np.dot:\n",
            " [[ 58  64]\n",
            " [139 154]]\n"
          ]
        }
      ]
    },
    {
      "cell_type": "markdown",
      "source": [
        "Sample Code form slide - 45 - Using ”np.matmul”.\n"
      ],
      "metadata": {
        "id": "4m2C-EBgoRb_"
      }
    },
    {
      "cell_type": "code",
      "source": [
        "A = np.array([[1, 2, 3], [4, 5, 6]])\n",
        "B = np.array([[7, 8], [9, 10], [11, 12]])\n",
        "result_at = A @ B\n",
        "print(\"Result with @ operator:\\n\", result_at)\n",
        "result_matmul = np.matmul(A, B)\n",
        "print(\"Result with np.matmul:\\n\", result_matmul)\n"
      ],
      "metadata": {
        "colab": {
          "base_uri": "https://localhost:8080/"
        },
        "id": "g2X47wltoSIG",
        "outputId": "c32c7fe6-c297-481a-c555-a795b40b5fbd"
      },
      "execution_count": null,
      "outputs": [
        {
          "output_type": "stream",
          "name": "stdout",
          "text": [
            "Result with @ operator:\n",
            " [[ 58  64]\n",
            " [139 154]]\n",
            "Result with np.matmul:\n",
            " [[ 58  64]\n",
            " [139 154]]\n"
          ]
        }
      ]
    },
    {
      "cell_type": "markdown",
      "source": [
        "3.4 Linear Algebra with Numpy - np.linalg:\n",
        "Sample Code form slide - 48 - Common linear algebra operation with np.linalg."
      ],
      "metadata": {
        "id": "U6GC9Ai2qMPN"
      }
    },
    {
      "cell_type": "code",
      "source": [
        "A = np.array([[1, 2], [3, 4]])\n",
        "B = np.array([5, 6])\n",
        "print(\"Inverse:\\n\", np.linalg.inv(A))\n",
        "\n",
        "print(\"Determinant:\", np.linalg.det(A))\n",
        "\n",
        "print(\"Frobenius Norm:\", np.linalg.norm(A, 'fro'))\n",
        "\n",
        "print(\"2-Norm (Euclidean):\", np.linalg.norm(A))\n",
        "\n",
        "print(\"Solution x:\", np.linalg.solve(A, B))\n"
      ],
      "metadata": {
        "colab": {
          "base_uri": "https://localhost:8080/"
        },
        "id": "V0kL79T0qQI9",
        "outputId": "e56da203-dae1-4425-fbbd-f791656eec96"
      },
      "execution_count": null,
      "outputs": [
        {
          "output_type": "stream",
          "name": "stdout",
          "text": [
            "Inverse:\n",
            " [[-2.   1. ]\n",
            " [ 1.5 -0.5]]\n",
            "Determinant: -2.0000000000000004\n",
            "Frobenius Norm: 5.477225575051661\n",
            "2-Norm (Euclidean): 5.477225575051661\n",
            "Solution x: [-4.   4.5]\n"
          ]
        }
      ]
    },
    {
      "cell_type": "markdown",
      "source": [
        "4 TO - DO - Task\n",
        "Please complete all the problem listed below.\n",
        "4.1 Warming Up Exercise: Basic Vector and Matrix Operation with Numpy.\n",
        "Problem - 1: Array Creation:\n",
        "Complete the following Tasks:\n",
        "1. Initialize an empty array with size 2X2.\n",
        "2. Initialize an all one array with size 4X2.\n",
        "3. Return a new array of given shape and type, filled with fill value.{Hint: np.full}\n",
        "4. Return a new array of zeros with same shape and type as a given array.{Hint: np.zeros like}\n",
        "5. Return a new array of ones with same shape and type as a given array.{Hint: np.ones like}\n",
        "6. For an existing list new_list = [1,2,3,4] convert to an numpy array.{Hint: np.array()}"
      ],
      "metadata": {
        "id": "rux2fNPCrRUR"
      }
    },
    {
      "cell_type": "code",
      "source": [
        "arr=np.empty((2,2))\n",
        "print(arr)\n",
        "\n",
        "arr1=np.ones((4,2))\n",
        "print(arr1)\n",
        "\n",
        "arr2=np.full((4,2),1)\n",
        "print(arr2)\n",
        "\n",
        "arr3=np.zeros_like(arr2)\n",
        "print(arr3)\n",
        "\n",
        "arr4=np.ones_like(arr2)\n",
        "print(arr4)\n",
        "\n",
        "new_list=[1,2,3,4]\n",
        "arr5=np.array(new_list)\n",
        "print(arr5)\n"
      ],
      "metadata": {
        "colab": {
          "base_uri": "https://localhost:8080/"
        },
        "id": "neoQ7wu-rR40",
        "outputId": "38386ffc-c41e-4a56-fa9c-77ac9e411780"
      },
      "execution_count": null,
      "outputs": [
        {
          "output_type": "stream",
          "name": "stdout",
          "text": [
            "[[1. 2.]\n",
            " [3. 4.]]\n",
            "[[1. 1.]\n",
            " [1. 1.]\n",
            " [1. 1.]\n",
            " [1. 1.]]\n",
            "[[1 1]\n",
            " [1 1]\n",
            " [1 1]\n",
            " [1 1]]\n",
            "[[0 0]\n",
            " [0 0]\n",
            " [0 0]\n",
            " [0 0]]\n",
            "[[1 1]\n",
            " [1 1]\n",
            " [1 1]\n",
            " [1 1]]\n",
            "[1 2 3 4]\n"
          ]
        }
      ]
    },
    {
      "cell_type": "markdown",
      "source": [
        " 4.1 WarmingUpExercise: Basic Vector and Matrix Operation with Numpy.\n",
        " Problem- 1: Array Creation:\n",
        " Complete the following Tasks:\n",
        " 1. Initialize an empty array with size 2X2.\n",
        " 2. Initialize an all one array with size 4X2.\n",
        " 3. Return a new array of given shape and type, filled with fill value.{Hint: np.full}\n",
        " 4. Return a new array of zeros with same shape and type as a given array.{Hint: np.zeros like}\n",
        " 5. Return a new array of ones with same shape and type as a given array.{Hint: np.ones like}\n",
        " 6. For an existing list new_list = [1,2,3,4] convert to an numpy array.{Hint: np.array()}\n"
      ],
      "metadata": {
        "id": "msrCPBhYW3Bs"
      }
    },
    {
      "cell_type": "code",
      "source": [
        "import numpy as np\n",
        "\n",
        "# 1. Initialize an empty array with size 2x2\n",
        "empty_array = np.empty((2, 2))\n",
        "print(\"Empty Array (2x2):\\n\", empty_array)\n",
        "\n",
        "# 2. Initialize an all-one array with size 4x2\n",
        "ones_array = np.ones((4, 2))\n",
        "print(\"\\nAll-Ones Array (4x2):\\n\", ones_array)\n",
        "\n",
        "# 3. Return a new array of given shape and type, filled with fill value\n",
        "fill_value = 7\n",
        "shape = (3, 3)\n",
        "filled_array = np.full(shape, fill_value)\n",
        "print(\"\\nArray Filled with Value 7 (3x3):\\n\", filled_array)\n",
        "\n",
        "# 4. Return a new array of zeros with the same shape and type as a given array\n",
        "example_array = np.array([[1, 2, 3], [4, 5, 6]])\n",
        "zeros_like_array = np.zeros_like(example_array)\n",
        "print(\"\\nZeros Array with Same Shape as example_array:\\n\", zeros_like_array)\n",
        "\n",
        "# 5. Return a new array of ones with the same shape and type as a given array\n",
        "ones_like_array = np.ones_like(example_array)\n",
        "print(\"\\nOnes Array with Same Shape as example_array:\\n\", ones_like_array)\n",
        "\n",
        "# 6. Convert the list `new_list = [1, 2, 3, 4]` to a numpy array\n",
        "new_list = [1, 2, 3, 4]\n",
        "numpy_array = np.array(new_list)\n",
        "print(\"\\nNumpy Array from List:\\n\", numpy_array)\n"
      ],
      "metadata": {
        "colab": {
          "base_uri": "https://localhost:8080/"
        },
        "id": "aFB74cavW7BH",
        "outputId": "329e08f8-edae-43f4-e518-54c09e1bb5b6"
      },
      "execution_count": null,
      "outputs": [
        {
          "output_type": "stream",
          "name": "stdout",
          "text": [
            "Empty Array (2x2):\n",
            " [[4.93123385e-310 0.00000000e+000]\n",
            " [            nan 2.84347436e-311]]\n",
            "\n",
            "All-Ones Array (4x2):\n",
            " [[1. 1.]\n",
            " [1. 1.]\n",
            " [1. 1.]\n",
            " [1. 1.]]\n",
            "\n",
            "Array Filled with Value 7 (3x3):\n",
            " [[7 7 7]\n",
            " [7 7 7]\n",
            " [7 7 7]]\n",
            "\n",
            "Zeros Array with Same Shape as example_array:\n",
            " [[0 0 0]\n",
            " [0 0 0]]\n",
            "\n",
            "Ones Array with Same Shape as example_array:\n",
            " [[1 1 1]\n",
            " [1 1 1]]\n",
            "\n",
            "Numpy Array from List:\n",
            " [1 2 3 4]\n"
          ]
        }
      ]
    },
    {
      "cell_type": "markdown",
      "source": [
        "\n",
        " 4.1.1 Problem- 2: Array Manipulation: Numerical Ranges and Array indexing:\n",
        " Complete the following tasks:\n",
        " 1. Create an array with values ranging from 10 to 49. {Hint:np.arrange()}.\n",
        " 2. Create a 3X3 matrix with values ranging from 0 to 8.\n",
        " {Hint:look for np.reshape()}\n",
        " 3. Create a 3X3 identity matrix.{Hint:np.eye()}\n",
        " 4. Create a random array of size 30 and find the mean of the array.\n",
        " {Hint:check for np.random.random() and array.mean() function}\n",
        " 5. Create a 10X10 array with random values and find the minimum and maximum values.\n",
        " 6. Create a zero array of size 10 and replace 5th element with 1.\n",
        " 7. Reverse an array arr = [1,2,0,0,4,0].\n",
        " 8. Create a 2d array with 1 on border and 0 inside.\n",
        " 9. Create a 8X8 matrix and fill it with a checkerboard pattern."
      ],
      "metadata": {
        "id": "8noiX01bXRiV"
      }
    },
    {
      "cell_type": "code",
      "source": [
        "import numpy as np\n",
        "\n",
        "# 1. Create an array with values ranging from 10 to 49\n",
        "array_range = np.arange(10, 50)\n",
        "print(\"Array with values ranging from 10 to 49:\\n\", array_range)\n",
        "\n",
        "# 2. Create a 3x3 matrix with values ranging from 0 to 8\n",
        "matrix_3x3 = np.arange(9).reshape(3, 3)\n",
        "print(\"\\n3x3 Matrix with values ranging from 0 to 8:\\n\", matrix_3x3)\n",
        "\n",
        "# 3. Create a 3x3 identity matrix\n",
        "identity_matrix = np.eye(3)\n",
        "print(\"\\n3x3 Identity Matrix:\\n\", identity_matrix)\n",
        "\n",
        "# 4. Create a random array of size 30 and find the mean of the array\n",
        "random_array = np.random.random(30)\n",
        "mean_value = random_array.mean()\n",
        "print(\"\\nRandom Array of size 30:\\n\", random_array)\n",
        "print(\"Mean of the random array:\", mean_value)\n",
        "\n",
        "# 5. Create a 10x10 array with random values and find the minimum and maximum values\n",
        "random_10x10 = np.random.random((10, 10))\n",
        "min_value = random_10x10.min()\n",
        "max_value = random_10x10.max()\n",
        "print(\"\\n10x10 Array with Random Values:\\n\", random_10x10)\n",
        "print(\"Minimum Value:\", min_value)\n",
        "print(\"Maximum Value:\", max_value)\n",
        "\n",
        "# 6. Create a zero array of size 10 and replace the 5th element with 1\n",
        "zero_array = np.zeros(10)\n",
        "zero_array[4] = 1\n",
        "print(\"\\nZero Array with 5th Element Replaced by 1:\\n\", zero_array)\n",
        "\n",
        "# 7. Reverse an array arr = [1, 2, 0, 0, 4, 0]\n",
        "arr = [1, 2, 0, 0, 4, 0]\n",
        "reversed_array = np.array(arr)[::-1]\n",
        "print(\"\\nReversed Array:\\n\", reversed_array)\n",
        "\n",
        "# 8. Create a 2D array with 1 on border and 0 inside\n",
        "border_array = np.ones((5, 5))\n",
        "border_array[1:-1, 1:-1] = 0\n",
        "print(\"\\n2D Array with 1 on Border and 0 Inside:\\n\", border_array)\n",
        "\n",
        "# 9. Create an 8x8 matrix and fill it with a checkerboard pattern\n",
        "checkerboard = np.zeros((8, 8), dtype=int)\n",
        "checkerboard[1::2, ::2] = 1\n",
        "checkerboard[::2, 1::2] = 1\n",
        "print(\"\\n8x8 Checkerboard Pattern:\\n\", checkerboard)"
      ],
      "metadata": {
        "colab": {
          "base_uri": "https://localhost:8080/"
        },
        "id": "KuwU9WdBXeYT",
        "outputId": "421f2574-f877-4733-81e0-1f8baf1c3a27"
      },
      "execution_count": 4,
      "outputs": [
        {
          "output_type": "stream",
          "name": "stdout",
          "text": [
            "Array with values ranging from 10 to 49:\n",
            " [10 11 12 13 14 15 16 17 18 19 20 21 22 23 24 25 26 27 28 29 30 31 32 33\n",
            " 34 35 36 37 38 39 40 41 42 43 44 45 46 47 48 49]\n",
            "\n",
            "3x3 Matrix with values ranging from 0 to 8:\n",
            " [[0 1 2]\n",
            " [3 4 5]\n",
            " [6 7 8]]\n",
            "\n",
            "3x3 Identity Matrix:\n",
            " [[1. 0. 0.]\n",
            " [0. 1. 0.]\n",
            " [0. 0. 1.]]\n",
            "\n",
            "Random Array of size 30:\n",
            " [0.83480997 0.36519187 0.59633118 0.66586558 0.19488279 0.14764921\n",
            " 0.21190485 0.45699445 0.05615723 0.70938032 0.49084266 0.77529569\n",
            " 0.64508623 0.72016194 0.36154863 0.07276973 0.35906659 0.6059452\n",
            " 0.73052716 0.26412528 0.36287536 0.13993254 0.03295586 0.0594192\n",
            " 0.4992877  0.44054942 0.94437003 0.31148647 0.97025887 0.14939325]\n",
            "Mean of the random array: 0.43916884128256656\n",
            "\n",
            "10x10 Array with Random Values:\n",
            " [[0.67355166 0.98989622 0.87951213 0.38573402 0.26112459 0.64030108\n",
            "  0.87143519 0.74916744 0.53673368 0.45972565]\n",
            " [0.0609093  0.23858065 0.34906739 0.14977105 0.72083853 0.17227614\n",
            "  0.63933523 0.37771434 0.46018246 0.88145723]\n",
            " [0.20274801 0.94501158 0.03878559 0.47727663 0.22493481 0.00901726\n",
            "  0.21934254 0.6913647  0.01141806 0.02459723]\n",
            " [0.9962563  0.37982538 0.60942364 0.21565624 0.41266773 0.21889296\n",
            "  0.53564949 0.37870694 0.19773581 0.4225962 ]\n",
            " [0.8294822  0.97971162 0.56459663 0.36345424 0.49033004 0.23728796\n",
            "  0.27283156 0.35340891 0.72256124 0.23033383]\n",
            " [0.1289931  0.76976747 0.71306025 0.53284139 0.94448873 0.18206614\n",
            "  0.98115888 0.72715212 0.01147572 0.16869416]\n",
            " [0.32347066 0.70786363 0.44908941 0.92849761 0.68528318 0.91403781\n",
            "  0.83341821 0.21718062 0.60906722 0.55906592]\n",
            " [0.38562147 0.37326835 0.87046164 0.96422905 0.66544248 0.21298135\n",
            "  0.82274928 0.61221602 0.47316626 0.48967932]\n",
            " [0.67287799 0.54608909 0.37403781 0.36135688 0.43637913 0.9968725\n",
            "  0.33898114 0.44796033 0.42018656 0.77989412]\n",
            " [0.56603343 0.16729183 0.81308539 0.025352   0.67070681 0.74901983\n",
            "  0.46957989 0.9165109  0.86539328 0.69385472]]\n",
            "Minimum Value: 0.009017264647572909\n",
            "Maximum Value: 0.9968725011536248\n",
            "\n",
            "Zero Array with 5th Element Replaced by 1:\n",
            " [0. 0. 0. 0. 1. 0. 0. 0. 0. 0.]\n",
            "\n",
            "Reversed Array:\n",
            " [0 4 0 0 2 1]\n",
            "\n",
            "2D Array with 1 on Border and 0 Inside:\n",
            " [[1. 1. 1. 1. 1.]\n",
            " [1. 0. 0. 0. 1.]\n",
            " [1. 0. 0. 0. 1.]\n",
            " [1. 0. 0. 0. 1.]\n",
            " [1. 1. 1. 1. 1.]]\n",
            "\n",
            "8x8 Checkerboard Pattern:\n",
            " [[0 1 0 1 0 1 0 1]\n",
            " [1 0 1 0 1 0 1 0]\n",
            " [0 1 0 1 0 1 0 1]\n",
            " [1 0 1 0 1 0 1 0]\n",
            " [0 1 0 1 0 1 0 1]\n",
            " [1 0 1 0 1 0 1 0]\n",
            " [0 1 0 1 0 1 0 1]\n",
            " [1 0 1 0 1 0 1 0]]\n"
          ]
        }
      ]
    },
    {
      "cell_type": "markdown",
      "source": [
        " Problem- 3: Array Operations:\n",
        " For the following arrays:\n",
        " x = np.array([[1,2],[3,5]]) and y = np.array([[5,6],[7,8]]);\n",
        " v = np.array([9,10]) and w = np.array([11,12]);\n",
        " Complete all the task using numpy:\n",
        " 1. Add the two array.\n",
        " 2. Subtract the two array.\n",
        " 3. Multiply the array with any integers of your choice.\n",
        " 4. Find the square of each element of the array.\n",
        " 5. Find the dot product between: v(and)w ; x(and)v ; x(and)y.\n",
        " 6. Concatenate x(and)y along row and Concatenate v(and)w along column.\n",
        " {Hint:try np.concatenate() or np.vstack() functions.\n",
        " 7. Concatenate x(and)v; if you get an error, observe and explain why did you get the error"
      ],
      "metadata": {
        "id": "033oY6mWYAYj"
      }
    },
    {
      "cell_type": "code",
      "source": [
        "import numpy as np\n",
        "\n",
        "# Given arrays\n",
        "x = np.array([[1, 2], [3, 5]])\n",
        "y = np.array([[5, 6], [7, 8]])\n",
        "v = np.array([9, 10])\n",
        "w = np.array([11, 12])\n",
        "\n",
        "# 1. Add the two arrays (x and y)\n",
        "add_result = x + y\n",
        "print(\"Addition of x and y:\\n\", add_result)\n",
        "\n",
        "# 2. Subtract the two arrays (x and y)\n",
        "subtract_result = x - y\n",
        "print(\"\\nSubtraction of x and y:\\n\", subtract_result)\n",
        "\n",
        "# 3. Multiply the array x with an integer (e.g., 3)\n",
        "scalar_multiplication = x * 3\n",
        "print(\"\\nMultiplication of x with 3:\\n\", scalar_multiplication)\n",
        "\n",
        "# 4. Find the square of each element in the array x\n",
        "square_result = x ** 2\n",
        "print(\"\\nSquare of each element in x:\\n\", square_result)\n",
        "\n",
        "# 5. Find the dot product\n",
        "dot_vw = np.dot(v, w)\n",
        "dot_xv = np.dot(x, v)\n",
        "dot_xy = np.dot(x, y)\n",
        "print(\"\\nDot Product of v and w:\", dot_vw)\n",
        "print(\"Dot Product of x and v:\\n\", dot_xv)\n",
        "print(\"Dot Product of x and y:\\n\", dot_xy)\n",
        "\n",
        "# 6. Concatenate x and y along rows; Concatenate v and w along columns\n",
        "concatenate_xy = np.concatenate((x, y), axis=0)\n",
        "concatenate_vw = np.vstack((v, w))\n",
        "print(\"\\nConcatenation of x and y along rows:\\n\", concatenate_xy)\n",
        "print(\"Concatenation of v and w along columns:\\n\", concatenate_vw)\n",
        "\n",
        "# 7. Concatenate x and v\n",
        "try:\n",
        "    concatenate_xv = np.concatenate((x, v), axis=0)\n",
        "    print(\"\\nConcatenation of x and v:\\n\", concatenate_xv)\n",
        "except ValueError as e:\n",
        "    print(\"\\nError while concatenating x and v:\", e)\n"
      ],
      "metadata": {
        "colab": {
          "base_uri": "https://localhost:8080/"
        },
        "id": "bEzSFN8dYJcR",
        "outputId": "74a3cb68-d705-4728-94b9-c035d57efd58"
      },
      "execution_count": 3,
      "outputs": [
        {
          "output_type": "stream",
          "name": "stdout",
          "text": [
            "Addition of x and y:\n",
            " [[ 6  8]\n",
            " [10 13]]\n",
            "\n",
            "Subtraction of x and y:\n",
            " [[-4 -4]\n",
            " [-4 -3]]\n",
            "\n",
            "Multiplication of x with 3:\n",
            " [[ 3  6]\n",
            " [ 9 15]]\n",
            "\n",
            "Square of each element in x:\n",
            " [[ 1  4]\n",
            " [ 9 25]]\n",
            "\n",
            "Dot Product of v and w: 219\n",
            "Dot Product of x and v:\n",
            " [29 77]\n",
            "Dot Product of x and y:\n",
            " [[19 22]\n",
            " [50 58]]\n",
            "\n",
            "Concatenation of x and y along rows:\n",
            " [[1 2]\n",
            " [3 5]\n",
            " [5 6]\n",
            " [7 8]]\n",
            "Concatenation of v and w along columns:\n",
            " [[ 9 10]\n",
            " [11 12]]\n",
            "\n",
            "Error while concatenating x and v: all the input arrays must have same number of dimensions, but the array at index 0 has 2 dimension(s) and the array at index 1 has 1 dimension(s)\n"
          ]
        }
      ]
    },
    {
      "cell_type": "markdown",
      "source": [
        " Problem- 4: Matrix Operations:\n",
        " • For the following arrays:\n",
        " A = np.array([[3,4],[7,8]]) and B = np.array([[5,3],[2,1]]);\n",
        " Prove following with Numpy:\n",
        " 1. Prove A.A−1 = I.\n",
        " 2. Prove AB= BA.\n",
        " 3. Prove (AB)T = BTAT.\n",
        " • Solve the following system of Linear equation using Inverse Methods.\n",
        " 2x −3y+z =−1\n",
        " x −y+2z =−3\n",
        " 3x +y−z =9\n",
        " {Hint: First use Numpy array to represent the equation in Matrix form. Then Solve for: AX = B}\n",
        " • Now: solve the above equation using np.linalg.inv function.{Explore more about ”linalg” function\n",
        " of Numpy}\n"
      ],
      "metadata": {
        "id": "BEBqxJh3Y8Sh"
      }
    },
    {
      "cell_type": "code",
      "source": [
        "import numpy as np\n",
        "\n",
        "# Given matrices\n",
        "A = np.array([[3, 4], [7, 8]])\n",
        "B = np.array([[5, 3], [2, 1]])\n",
        "\n",
        "# 1. Prove A.A−1 = I\n",
        "A_inv = np.linalg.inv(A)\n",
        "identity_matrix = np.dot(A, A_inv)\n",
        "identity_matrix_rounded = np.round(identity_matrix)\n",
        "print(\"A * A^-1 = Identity Matrix:\\n\", identity_matrix_rounded)\n",
        "\n",
        "# 2. Prove AB = BA\n",
        "AB = np.dot(A, B)\n",
        "BA = np.dot(B, A)\n",
        "is_commutative = np.array_equal(AB, BA)\n",
        "print(\"\\nAB:\\n\", AB)\n",
        "print(\"\\nBA:\\n\", BA)\n",
        "print(\"\\nIs AB equal to BA? \", is_commutative)\n",
        "\n",
        "# 3. Prove (AB)T = BTAT\n",
        "AB_T = np.transpose(AB)\n",
        "BT_AT = np.dot(np.transpose(B), np.transpose(A))\n",
        "is_transpose_property = np.array_equal(AB_T, BT_AT)\n",
        "print(\"\\n(AB)^T:\\n\", AB_T)\n",
        "print(\"\\nB^T * A^T:\\n\", BT_AT)\n",
        "print(\"\\nIs (AB)^T equal to B^T * A^T? \", is_transpose_property)\n",
        "\n",
        "coeff_matrix = np.array([[2, -3, 1], [1, -1, 2], [3, 1, -1]])\n",
        "rhs_matrix = np.array([-1, -3, 9])  #\n",
        "\n",
        "# Solve using `np.linalg.inv`\n",
        "A_inv_3x3 = np.linalg.inv(coeff_matrix)\n",
        "solution = np.dot(A_inv_3x3, rhs_matrix)\n",
        "print(\"\\nSolution to the system of equations using inverse method:\\n\", solution)\n",
        "\n",
        "# Solve using `np.linalg.solve` (more numerically stable)\n",
        "solution_linalg = np.linalg.solve(coeff_matrix, rhs_matrix)\n",
        "print(\"\\nSolution to the system of equations using `np.linalg.solve`:\\n\", solution_linalg)\n"
      ],
      "metadata": {
        "colab": {
          "base_uri": "https://localhost:8080/"
        },
        "id": "nXDJlmQrY9Os",
        "outputId": "a9648af5-f083-44a7-ee8e-bc3f3d495e61"
      },
      "execution_count": null,
      "outputs": [
        {
          "output_type": "stream",
          "name": "stdout",
          "text": [
            "A * A^-1 = Identity Matrix:\n",
            " [[1. 0.]\n",
            " [0. 1.]]\n",
            "\n",
            "AB:\n",
            " [[23 13]\n",
            " [51 29]]\n",
            "\n",
            "BA:\n",
            " [[36 44]\n",
            " [13 16]]\n",
            "\n",
            "Is AB equal to BA?  False\n",
            "\n",
            "(AB)^T:\n",
            " [[23 51]\n",
            " [13 29]]\n",
            "\n",
            "B^T * A^T:\n",
            " [[23 51]\n",
            " [13 29]]\n",
            "\n",
            "Is (AB)^T equal to B^T * A^T?  True\n",
            "\n",
            "Solution to the system of equations using inverse method:\n",
            " [ 2.  1. -2.]\n",
            "\n",
            "Solution to the system of equations using `np.linalg.solve`:\n",
            " [ 2.  1. -2.]\n"
          ]
        }
      ]
    }
  ]
}