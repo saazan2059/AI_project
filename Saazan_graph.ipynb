{
  "nbformat": 4,
  "nbformat_minor": 0,
  "metadata": {
    "colab": {
      "provenance": []
    },
    "kernelspec": {
      "name": "python3",
      "display_name": "Python 3"
    },
    "language_info": {
      "name": "python"
    }
  },
  "cells": [
    {
      "cell_type": "markdown",
      "source": [
        " Problem- 1:\n",
        " For the following dataset construct:\n",
        " • Frequency Table with Relative frequency and Cumulative frequency.\n",
        " • Grouped Frequency Table using square root method to determine the class interval.\n",
        " Datasets are:\n",
        " 1. The scores (out of 100) obtained by 33 students in a mathematics test are as follows: 69, 48, 84, 58,\n",
        " 48, 73, 83, 48, 66, 58, 84, 66, 64, 71, 64, 66, 69, 66, 83, 66, 69, 71, 81, 71, 73, 69, 66, 66, 64, 58, 64,\n",
        " 69, 69."
      ],
      "metadata": {
        "id": "DCGT02H2_b0v"
      }
    },
    {
      "cell_type": "code",
      "source": [
        "import pandas as pd\n",
        "import math\n",
        "\n",
        "# Dataset\n",
        "scores = [69, 48, 84, 58, 48, 73, 83, 48, 66, 58, 84, 66, 64, 71, 64, 66, 69, 66, 83, 66, 69, 71, 81, 71, 73, 69, 66, 66, 64, 58, 64, 69, 69]\n",
        "\n",
        "# Frequency Table\n",
        "score_series = pd.Series(scores)\n",
        "frequency_table = score_series.value_counts().sort_index()\n",
        "\n",
        "# Relative Frequency\n",
        "relative_frequency = frequency_table / len(scores)\n",
        "\n",
        "# Cumulative Frequency\n",
        "cumulative_frequency = frequency_table.cumsum()\n",
        "\n",
        "# Display the Frequency Table\n",
        "print(\"Frequency Table:\\n\", frequency_table)\n",
        "print(\"\\nRelative Frequency:\\n\", relative_frequency)\n",
        "print(\"\\nCumulative Frequency:\\n\", cumulative_frequency)\n",
        "\n",
        "# Grouped Frequency Table using Square Root Method\n",
        "range_of_data = max(scores) - min(scores)\n",
        "interval_size = math.ceil(math.sqrt(len(scores)))\n",
        "\n",
        "# Creating the grouped frequency table\n",
        "bins = list(range(min(scores), max(scores) + interval_size, interval_size))\n",
        "grouped_freq_table = pd.cut(scores, bins, right=False)\n",
        "grouped_freq_count = grouped_freq_table.value_counts().sort_index()\n",
        "\n",
        "print(\"\\nGrouped Frequency Table using Square Root Method:\\n\", grouped_freq_count)\n"
      ],
      "metadata": {
        "colab": {
          "base_uri": "https://localhost:8080/"
        },
        "id": "w-dV_gAL_ckr",
        "outputId": "da77987e-2cd8-4a93-ebb2-da31b414e73f"
      },
      "execution_count": null,
      "outputs": [
        {
          "output_type": "stream",
          "name": "stdout",
          "text": [
            "Frequency Table:\n",
            " 48    3\n",
            "58    3\n",
            "64    4\n",
            "66    7\n",
            "69    6\n",
            "71    3\n",
            "73    2\n",
            "81    1\n",
            "83    2\n",
            "84    2\n",
            "Name: count, dtype: int64\n",
            "\n",
            "Relative Frequency:\n",
            " 48    0.090909\n",
            "58    0.090909\n",
            "64    0.121212\n",
            "66    0.212121\n",
            "69    0.181818\n",
            "71    0.090909\n",
            "73    0.060606\n",
            "81    0.030303\n",
            "83    0.060606\n",
            "84    0.060606\n",
            "Name: count, dtype: float64\n",
            "\n",
            "Cumulative Frequency:\n",
            " 48     3\n",
            "58     6\n",
            "64    10\n",
            "66    17\n",
            "69    23\n",
            "71    26\n",
            "73    28\n",
            "81    29\n",
            "83    31\n",
            "84    33\n",
            "Name: count, dtype: int64\n",
            "\n",
            "Grouped Frequency Table using Square Root Method:\n",
            " [48, 54)     3\n",
            "[54, 60)     3\n",
            "[60, 66)     4\n",
            "[66, 72)    16\n",
            "[72, 78)     2\n",
            "[78, 84)     3\n",
            "Name: count, dtype: int64\n"
          ]
        }
      ]
    },
    {
      "cell_type": "markdown",
      "source": [
        " 2. Following is recorded weight of apples:\n",
        " [106, 107,123,70,139,186,111,115,107,104107,115,125,126,119,84,141,98,81,110\n",
        " 76,82,109,93,187,95,111,92,86,68,130129,115,128,100,99,113,204,90,123,136\n",
        " 110,131,80,78,75,118,90,84,82]"
      ],
      "metadata": {
        "id": "DaBLQAIIAvtW"
      }
    },
    {
      "cell_type": "code",
      "source": [
        "import pandas as pd\n",
        "import math\n",
        "\n",
        "# Dataset\n",
        "weights = [106, 107, 123, 70, 139, 186, 111, 115, 107, 104, 107, 115, 125, 126, 119, 84, 141, 98, 81, 110,\n",
        "           76, 82, 109, 93, 187, 95, 111, 92, 86, 68, 130, 129, 115, 128, 100, 99, 113, 204, 90, 123, 136,\n",
        "           110, 131, 80, 78, 75, 118, 90, 84, 82]\n",
        "\n",
        "# Frequency Table\n",
        "weight_series = pd.Series(weights)\n",
        "frequency_table_weights = weight_series.value_counts().sort_index()\n",
        "\n",
        "# Relative Frequency\n",
        "relative_frequency_weights = frequency_table_weights / len(weights)\n",
        "\n",
        "# Cumulative Frequency\n",
        "cumulative_frequency_weights = frequency_table_weights.cumsum()\n",
        "\n",
        "# Display the Frequency Table\n",
        "print(\"Frequency Table (Weights of Apples):\\n\", frequency_table_weights)\n",
        "print(\"\\nRelative Frequency:\\n\", relative_frequency_weights)\n",
        "print(\"\\nCumulative Frequency:\\n\", cumulative_frequency_weights)\n",
        "\n",
        "# Grouped Frequency Table using Square Root Method\n",
        "range_of_data_weights = max(weights) - min(weights)\n",
        "interval_size_weights = math.ceil(math.sqrt(len(weights)))\n",
        "\n",
        "# Creating the grouped frequency table\n",
        "bins_weights = list(range(min(weights), max(weights) + interval_size_weights, interval_size_weights))\n",
        "grouped_freq_table_weights = pd.cut(weights, bins_weights, right=False)\n",
        "grouped_freq_count_weights = grouped_freq_table_weights.value_counts().sort_index()\n",
        "\n",
        "print(\"\\nGrouped Frequency Table using Square Root Method (Weights of Apples):\\n\", grouped_freq_count_weights)\n"
      ],
      "metadata": {
        "colab": {
          "base_uri": "https://localhost:8080/"
        },
        "id": "kQ8-QbwiAvYu",
        "outputId": "e1734901-74a3-4709-cd3c-27f7a08315f0"
      },
      "execution_count": null,
      "outputs": [
        {
          "output_type": "stream",
          "name": "stdout",
          "text": [
            "Frequency Table (Weights of Apples):\n",
            " 68     1\n",
            "70     1\n",
            "75     1\n",
            "76     1\n",
            "78     1\n",
            "80     1\n",
            "81     1\n",
            "82     2\n",
            "84     2\n",
            "86     1\n",
            "90     2\n",
            "92     1\n",
            "93     1\n",
            "95     1\n",
            "98     1\n",
            "99     1\n",
            "100    1\n",
            "104    1\n",
            "106    1\n",
            "107    3\n",
            "109    1\n",
            "110    2\n",
            "111    2\n",
            "113    1\n",
            "115    3\n",
            "118    1\n",
            "119    1\n",
            "123    2\n",
            "125    1\n",
            "126    1\n",
            "128    1\n",
            "129    1\n",
            "130    1\n",
            "131    1\n",
            "136    1\n",
            "139    1\n",
            "141    1\n",
            "186    1\n",
            "187    1\n",
            "204    1\n",
            "Name: count, dtype: int64\n",
            "\n",
            "Relative Frequency:\n",
            " 68     0.02\n",
            "70     0.02\n",
            "75     0.02\n",
            "76     0.02\n",
            "78     0.02\n",
            "80     0.02\n",
            "81     0.02\n",
            "82     0.04\n",
            "84     0.04\n",
            "86     0.02\n",
            "90     0.04\n",
            "92     0.02\n",
            "93     0.02\n",
            "95     0.02\n",
            "98     0.02\n",
            "99     0.02\n",
            "100    0.02\n",
            "104    0.02\n",
            "106    0.02\n",
            "107    0.06\n",
            "109    0.02\n",
            "110    0.04\n",
            "111    0.04\n",
            "113    0.02\n",
            "115    0.06\n",
            "118    0.02\n",
            "119    0.02\n",
            "123    0.04\n",
            "125    0.02\n",
            "126    0.02\n",
            "128    0.02\n",
            "129    0.02\n",
            "130    0.02\n",
            "131    0.02\n",
            "136    0.02\n",
            "139    0.02\n",
            "141    0.02\n",
            "186    0.02\n",
            "187    0.02\n",
            "204    0.02\n",
            "Name: count, dtype: float64\n",
            "\n",
            "Cumulative Frequency:\n",
            " 68      1\n",
            "70      2\n",
            "75      3\n",
            "76      4\n",
            "78      5\n",
            "80      6\n",
            "81      7\n",
            "82      9\n",
            "84     11\n",
            "86     12\n",
            "90     14\n",
            "92     15\n",
            "93     16\n",
            "95     17\n",
            "98     18\n",
            "99     19\n",
            "100    20\n",
            "104    21\n",
            "106    22\n",
            "107    25\n",
            "109    26\n",
            "110    28\n",
            "111    30\n",
            "113    31\n",
            "115    34\n",
            "118    35\n",
            "119    36\n",
            "123    38\n",
            "125    39\n",
            "126    40\n",
            "128    41\n",
            "129    42\n",
            "130    43\n",
            "131    44\n",
            "136    45\n",
            "139    46\n",
            "141    47\n",
            "186    48\n",
            "187    49\n",
            "204    50\n",
            "Name: count, dtype: int64\n",
            "\n",
            "Grouped Frequency Table using Square Root Method (Weights of Apples):\n",
            " [68, 76)      3\n",
            "[76, 84)      6\n",
            "[84, 92)      5\n",
            "[92, 100)     5\n",
            "[100, 108)    6\n",
            "[108, 116)    9\n",
            "[116, 124)    4\n",
            "[124, 132)    6\n",
            "[132, 140)    2\n",
            "[140, 148)    1\n",
            "[148, 156)    0\n",
            "[156, 164)    0\n",
            "[164, 172)    0\n",
            "[172, 180)    0\n",
            "[180, 188)    2\n",
            "[188, 196)    0\n",
            "[196, 204)    0\n",
            "Name: count, dtype: int64\n"
          ]
        }
      ]
    },
    {
      "cell_type": "markdown",
      "source": [
        " Problem- 2:\n",
        " You conducted a survey to collect the ages of 50 participants in a fitness program. The ages were recorded as\n",
        " follows:\n",
        " 32,40,38,45,50,34,42,36,48,55,\n",
        " 39,41,37,44,49,43,35,52,46,40,\n",
        " 33,47,39,51,38,44,42,36,53,41,\n",
        " 37,45,39,54,40,38,36,43,50,42,\n",
        " 38,55,39,37,49,46,44,40,35,52\n",
        " Construct a Histogram and Discuss any patterns or insights you observe from the histogram {shape or spread}."
      ],
      "metadata": {
        "id": "vLDcwMXiBkre"
      }
    },
    {
      "cell_type": "code",
      "source": [
        "import pandas as pd\n",
        "import numpy as np\n",
        "import matplotlib.pyplot as plt\n",
        "import math\n",
        "\n",
        "# Dataset\n",
        "ages = [\n",
        "    32, 40, 38, 45, 50, 34, 42, 36, 48, 55,\n",
        "    39, 41, 37, 44, 49, 43, 35, 52, 46, 40,\n",
        "    33, 47, 39, 51, 38, 44, 42, 36, 53, 41,\n",
        "    37, 45, 39, 54, 40, 38, 36, 43, 50, 42,\n",
        "    38, 55, 39, 37, 49, 46, 44, 40, 35, 52\n",
        "]\n",
        "\n",
        "# Calculate range and interval size\n",
        "range_of_data = max(ages) - min(ages)\n",
        "interval_size = math.ceil(math.sqrt(len(ages)))  # Square root method\n",
        "\n",
        "#Create the class intervals\n",
        "min_age = min(ages)\n",
        "max_age = max(ages)\n",
        "bins = list(range(min_age, max_age + interval_size, interval_size))\n",
        "\n",
        "#Create the frequency table\n",
        "grouped_freq_table = pd.cut(ages, bins, right=False)\n",
        "grouped_freq_count = grouped_freq_table.value_counts().sort_index()\n",
        "\n",
        "# Display the frequency table\n",
        "print(\"Grouped Frequency Table:\\n\", grouped_freq_count)\n",
        "\n",
        "# Plotting the histogram\n",
        "plt.figure(figsize=(10,6))\n",
        "plt.hist(ages, bins=bins, edgecolor='black', alpha=0.7)\n",
        "plt.title('Age Distribution of Fitness Program Participants')\n",
        "plt.xlabel('Age')\n",
        "plt.ylabel('Frequency')\n",
        "plt.grid(True, alpha=0.3)\n",
        "\n",
        "plt.show()\n"
      ],
      "metadata": {
        "colab": {
          "base_uri": "https://localhost:8080/",
          "height": 651
        },
        "id": "ifTzzG_HBrbJ",
        "outputId": "a90ba0b8-0ee5-465d-f8fc-72537979e075"
      },
      "execution_count": null,
      "outputs": [
        {
          "output_type": "stream",
          "name": "stdout",
          "text": [
            "Grouped Frequency Table:\n",
            " [32, 40)    19\n",
            "[40, 48)    19\n",
            "[48, 56)    12\n",
            "Name: count, dtype: int64\n"
          ]
        },
        {
          "output_type": "display_data",
          "data": {
            "text/plain": [
              "<Figure size 1000x600 with 1 Axes>"
            ],
            "image/png": "[encoded data removed]"
          },
          "metadata": {}
        }
      ]
    },
    {
      "cell_type": "markdown",
      "source": [
        " Problem- 3:\n",
        " Consider the data given in the table below: Construct a Histogram and Interpret the Graph"
      ],
      "metadata": {
        "id": "IqYv9JhjE4js"
      }
    },
    {
      "cell_type": "code",
      "source": [
        "import matplotlib.pyplot as plt\n",
        "\n",
        "# Data: class intervals and frequencies\n",
        "class_intervals = [(0, 40), (40, 50), (50, 60), (60, 70), (70, 100)]\n",
        "frequencies = [5, 6, 8, 4, 2]\n",
        "class_widths = [40, 10, 10, 10, 30]\n",
        "\n",
        "# Calculate densities\n",
        "densities = [freq / width for freq, width in zip(frequencies, class_widths)]\n",
        "\n",
        "# Plot the histogram\n",
        "plt.figure(figsize=(10, 6))\n",
        "\n",
        "# Plotting the bars using density\n",
        "plt.bar([interval[0] for interval in class_intervals], densities, width=class_widths, edgecolor='black', alpha=0.7)\n",
        "\n",
        "# Adding labels and title\n",
        "plt.title('Histogram of Weight Distribution with Densities')\n",
        "plt.xlabel('Weight (gms)')\n",
        "plt.ylabel('Density')\n",
        "\n",
        "# Set the x-ticks to correspond to the class intervals\n",
        "plt.xticks([interval[0] + interval[1] // 2 for interval in class_intervals])\n",
        "\n",
        "# Show the plot\n",
        "plt.grid(True, alpha=0.3)\n",
        "plt.show()\n"
      ],
      "metadata": {
        "colab": {
          "base_uri": "https://localhost:8080/",
          "height": 564
        },
        "id": "bw6FpgQfE86v",
        "outputId": "54291cc5-0c60-43e8-f13b-efe9136e168e"
      },
      "execution_count": null,
      "outputs": [
        {
          "output_type": "display_data",
          "data": {
            "text/plain": [
              "<Figure size 1000x600 with 1 Axes>"
            ],
            "image/png": "[encoded data removed]"
          },
          "metadata": {}
        }
      ]
    },
    {
      "cell_type": "markdown",
      "source": [
        " Construct the Histogram and Interpret:\n",
        " 1. The value of π up to 50 decimal places is given below:\n",
        " 3.14159265358979323846264338327950288419716939937510\n",
        " Make a frequency distribution of the digits from 0 to 9 after the decimal point."
      ],
      "metadata": {
        "id": "slsXHd2VFG9_"
      }
    },
    {
      "cell_type": "code",
      "source": [
        "import matplotlib.pyplot as plt\n",
        "from collections import Counter\n",
        "\n",
        "# Given value of pi up to 50 decimal places\n",
        "pi_decimal = \"14159265358979323846264338327950288419716939937510\"\n",
        "\n",
        "# Count the frequency of each digit\n",
        "digit_counts = Counter(pi_decimal)\n",
        "\n",
        "# Prepare data for the histogram\n",
        "digits = [str(i) for i in range(10)]\n",
        "frequencies = [digit_counts.get(str(i), 0) for i in range(10)]\n",
        "\n",
        "# Plotting the histogram\n",
        "plt.figure(figsize=(10, 6))\n",
        "plt.bar(digits, frequencies, color='skyblue', edgecolor='black')\n",
        "\n",
        "# Adding labels and title\n",
        "plt.title('Histogram of Digits in the First 50 Decimal Places of π')\n",
        "plt.xlabel('Digits')\n",
        "plt.ylabel('Frequency')\n",
        "\n",
        "# Display the plot\n",
        "plt.show()\n"
      ],
      "metadata": {
        "colab": {
          "base_uri": "https://localhost:8080/",
          "height": 564
        },
        "id": "SoPhKe10FI63",
        "outputId": "96ef81c6-e38b-4ef0-cfb4-4484534fd959"
      },
      "execution_count": null,
      "outputs": [
        {
          "output_type": "display_data",
          "data": {
            "text/plain": [
              "<Figure size 1000x600 with 1 Axes>"
            ],
            "image/png": "[encoded data removed]"
          },
          "metadata": {}
        }
      ]
    }
  ]
}